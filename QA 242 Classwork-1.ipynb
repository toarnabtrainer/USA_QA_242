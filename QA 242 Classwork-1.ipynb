{
 "cells": [
  {
   "cell_type": "markdown",
   "id": "01f2d664-a91e-4d34-a1d6-dcaa54d512d9",
   "metadata": {},
   "source": [
    "# **Python Scripting**"
   ]
  },
  {
   "cell_type": "markdown",
   "id": "c96c081d-9034-4568-b2c0-b55bc409be08",
   "metadata": {},
   "source": [
    "# **Day-1**"
   ]
  },
  {
   "cell_type": "markdown",
   "id": "964c2253-dfca-48a2-aeeb-009741343842",
   "metadata": {},
   "source": [
    "## **Python Inputs and Outputs**"
   ]
  },
  {
   "cell_type": "code",
   "execution_count": 4,
   "id": "224ddbb1-3082-43ee-af8a-45c6ecde570c",
   "metadata": {},
   "outputs": [
    {
     "name": "stdin",
     "output_type": "stream",
     "text": [
      "Please enter the first number:  100\n",
      "Please enter the second number:  200\n"
     ]
    },
    {
     "name": "stdout",
     "output_type": "stream",
     "text": [
      "100 <class 'str'> 1708743530992\n",
      "200 <class 'str'> 1708743530352\n",
      "So total = 100200\n",
      "End of the program...\n"
     ]
    }
   ],
   "source": [
    "num1 = input(\"Please enter the first number: \")\n",
    "num2 = input(\"Please enter the second number: \")\n",
    "print (num1, type(num1), id(num1))\n",
    "print (num2, type(num2), id(num2))\n",
    "total = num1 + num2    # String concatenation\n",
    "print (\"So total =\", total)\n",
    "print (\"End of the program...\")"
   ]
  },
  {
   "cell_type": "code",
   "execution_count": 6,
   "id": "64f529dc-5e0c-475d-b42d-cd767e8e7b4d",
   "metadata": {},
   "outputs": [
    {
     "name": "stdin",
     "output_type": "stream",
     "text": [
      "Please enter the first number:  200\n",
      "Please enter the second number:  300\n"
     ]
    },
    {
     "name": "stdout",
     "output_type": "stream",
     "text": [
      "200 <class 'int'> 1708664232400\n",
      "300 <class 'int'> 1708742880016\n",
      "So total = 500\n",
      "End of the program...\n"
     ]
    }
   ],
   "source": [
    "num1 = int(input(\"Please enter the first number: \"))\n",
    "num2 = int(input(\"Please enter the second number: \"))\n",
    "print (num1, type(num1), id(num1))\n",
    "print (num2, type(num2), id(num2))\n",
    "total = num1 + num2    # algebraic addition\n",
    "print (\"So total =\", total)\n",
    "print (\"End of the program...\")"
   ]
  },
  {
   "cell_type": "code",
   "execution_count": 21,
   "id": "5cc42449-17e1-4d2c-941f-92a93a170e81",
   "metadata": {},
   "outputs": [
    {
     "name": "stdout",
     "output_type": "stream",
     "text": [
      "So 200 + 300 = 500\n",
      "So 200 + 300 = 500\n",
      "So 200 + 300 = 500\n",
      "So 200 + 300 = 500\n",
      "So 200 + 300 = 500\n",
      "So 200 + 300 = 500\n",
      "So 200 + 300 = 500\n",
      "So 200 + 300 = 500\n",
      "So 200 + 300 = 500\n",
      "So 200 + 300.000000 = 500\n",
      "So   200.00 +    300.000 = 500\n"
     ]
    }
   ],
   "source": [
    "print (\"So\", num1, \"+\", num2, \"=\", total)\n",
    "print (\"So \" + str(num1) + \" + \" + str(num2) + \" = \" + str(total))\n",
    "print (\"So {} + {} = {}\".format(num1, num2, total))    # {} is called variable placeholder\n",
    "print (\"So {0} + {1} = {2}\".format(num1, num2, total))    # indexed variable placeholder\n",
    "print (\"So {2} + {1} = {0}\".format(total, num2, num1))    # indexed variable placeholder\n",
    "print (\"So {fn} + {sn} = {re}\".format(fn = num1, sn = num2, re = total))    # labelled variable placeholder\n",
    "print (\"So {fn} + {sn} = {re}\".format(re = total, sn = num2, fn = num1))    # labelled variable placeholder\n",
    "print (f\"So {num1} + {num2} = {total}\")    # smart formatting applicable from Python 2.7 and onward versions\n",
    "print (\"So %d + %d = %d\"%(num1, num2, total))\n",
    "print (\"So %d + %f = %d\"%(num1, num2, total))\n",
    "print (\"So %8.2f + %10.3f = %d\"%(num1, num2, total))"
   ]
  },
  {
   "cell_type": "markdown",
   "id": "dedb07ab-2400-4670-8099-0c6010b7b53b",
   "metadata": {},
   "source": [
    "## **Python Dynamic Variable Datatypes**"
   ]
  },
  {
   "cell_type": "code",
   "execution_count": 22,
   "id": "fe56251b-f650-4f16-aa00-522fbf46e71b",
   "metadata": {},
   "outputs": [
    {
     "name": "stdout",
     "output_type": "stream",
     "text": [
      "100 <class 'int'> 1708664229200\n",
      "100.5 <class 'float'> 1708742872464\n",
      "Punch <class 'str'> 1708771758384\n",
      "P <class 'str'> 1708665790000\n",
      "Punch <class 'str'> 1708771758384\n",
      "P <class 'str'> 1708665790000\n",
      "True <class 'bool'> 140734189291728\n",
      "False <class 'bool'> 140734189291760\n"
     ]
    }
   ],
   "source": [
    "var1 = 100; print (var1, type(var1), id(var1))\n",
    "var1 = 100.5; print (var1, type(var1), id(var1))\n",
    "var1 = \"Punch\"; print (var1, type(var1), id(var1))\n",
    "var1 = \"P\"; print (var1, type(var1), id(var1))\n",
    "var1 = 'Punch'; print (var1, type(var1), id(var1))\n",
    "var1 = 'P'; print (var1, type(var1), id(var1))\n",
    "var1 = True; print (var1, type(var1), id(var1))\n",
    "var1 = False; print (var1, type(var1), id(var1))"
   ]
  },
  {
   "cell_type": "markdown",
   "id": "1a4a83bf-70b2-463c-9417-55144fd8c992",
   "metadata": {},
   "source": [
    "## **Python Operators**"
   ]
  },
  {
   "cell_type": "code",
   "execution_count": null,
   "id": "78f8bd0c-a176-40ba-9360-cc39367a4e10",
   "metadata": {},
   "outputs": [],
   "source": [
    "# Arithmetic Operators: + - * / // ** %\n",
    "# Conditional Operators: > >= < <= != ==\n",
    "# Logical Operators: and or not\n",
    "# Assignment Operator: = \n",
    "# Special Assignment Operators: += -= *= /= //= **= %=\n",
    "\n",
    "# Operators: Unary, Binary, Ternary\n",
    "# Unary Operators (Require only one operand): +100 -300\n",
    "# Binary Operators (Require only two operands): 700 + 100    900 - 300\n",
    "# Ternary Operator (Requires only three operands)"
   ]
  },
  {
   "cell_type": "code",
   "execution_count": 24,
   "id": "e5887e7e-53fa-44cd-94f4-082d797e134a",
   "metadata": {},
   "outputs": [
    {
     "name": "stdout",
     "output_type": "stream",
     "text": [
      "140\n",
      "60\n",
      "4000\n",
      "2.5\n",
      "2\n",
      "100000000\n",
      "20\n"
     ]
    }
   ],
   "source": [
    "# Arithmetic Operators: + - * / // ** %\n",
    "print (100 + 40)    # addition\n",
    "print (100 - 40)    # subtraction\n",
    "print (100 * 40)    # multiplication\n",
    "print (100 / 40)    # float division\n",
    "print (100 // 40)   # integer division\n",
    "print (100 ** 4)    # exponentiation\n",
    "print (100 % 40)    # modulus, remainder of the division"
   ]
  },
  {
   "cell_type": "code",
   "execution_count": 25,
   "id": "11cfb641-f342-4c96-942e-e40eafc1e2a9",
   "metadata": {},
   "outputs": [
    {
     "name": "stdout",
     "output_type": "stream",
     "text": [
      "True True True True True True\n"
     ]
    }
   ],
   "source": [
    "# Conditional Operators: > >= < <= != ==\n",
    "print (100 > 40, 100 >= 40, 40 < 100, 40 <= 100, 100 != 40, 100 == 100)"
   ]
  },
  {
   "cell_type": "code",
   "execution_count": 28,
   "id": "2704a76f-6801-488a-baef-8e86f86237b7",
   "metadata": {},
   "outputs": [
    {
     "name": "stdout",
     "output_type": "stream",
     "text": [
      "False False False True\n",
      "False True True True\n",
      "False True\n"
     ]
    }
   ],
   "source": [
    "# Logical Operators: and or not\n",
    "print (False and False, False and True, True and False, True and True)\n",
    "print (False or False, False or True, True or False, True or True)\n",
    "print (not True, not False)"
   ]
  },
  {
   "cell_type": "code",
   "execution_count": 29,
   "id": "aaef9fec-4769-4875-9fe1-97fd97752fa1",
   "metadata": {},
   "outputs": [
    {
     "name": "stdout",
     "output_type": "stream",
     "text": [
      "100\n",
      "500\n",
      "900\n"
     ]
    }
   ],
   "source": [
    "# Special Assignment Operators: += -= *= /= //= **= %=\n",
    "num1 = 100\n",
    "print (num1)\n",
    "num1 = num1 + 400\n",
    "print (num1)\n",
    "num1 += 400\n",
    "print (num1)"
   ]
  },
  {
   "cell_type": "code",
   "execution_count": 31,
   "id": "a8d2ed5b-6789-45a1-9941-8442c64658f3",
   "metadata": {},
   "outputs": [
    {
     "name": "stdout",
     "output_type": "stream",
     "text": [
      "100 EVEN\n",
      "101 ODD\n"
     ]
    }
   ],
   "source": [
    "# Ternary Operator (Requires only three operands)\n",
    "num1 = 100\n",
    "result = \"EVEN\" if (num1 % 2 == 0) else \"ODD\"\n",
    "print (num1, result)\n",
    "\n",
    "num1 = 101\n",
    "result = \"EVEN\" if (num1 % 2 == 0) else \"ODD\"\n",
    "print (num1, result)"
   ]
  },
  {
   "cell_type": "markdown",
   "id": "dd933f7a-31ff-4355-80d1-17ca27c9a24a",
   "metadata": {},
   "source": [
    "## **Characters and ASCII Codes**"
   ]
  },
  {
   "cell_type": "code",
   "execution_count": 32,
   "id": "be8c9e81-1628-45be-a7a1-525bb7179dd8",
   "metadata": {},
   "outputs": [
    {
     "name": "stdout",
     "output_type": "stream",
     "text": [
      "65 97 90 122\n",
      "A a Z z\n"
     ]
    }
   ],
   "source": [
    "# ASCII (American Standard Code for Information Interchange) Codes\n",
    "# A => 65, B => 66, Z => 90\n",
    "# a => 97, b => 98, z => 122\n",
    "# 0 => 48, 1 => 49, 9 => 57\n",
    "# Space Bar/Blank => 32, Enter => 13, Esc => 27, Back Space => 9, Tab => 8\n",
    "# ASCII Code is 8 bits code ranging from 0 to 255\n",
    "# It can be divided into two categories:\n",
    "# 1. Normal ASCII Codes (0 to 127) - Printable\n",
    "# 2. Extended ASCII Codes (128 to 255) - Non-Printable\n",
    "print (ord('A'), ord('a'), ord('Z'), ord('z'))  # returns characters to ASCII Codes\n",
    "print (chr(65), chr(97), chr(90), chr(122))     # returns ASCII Codes to characters"
   ]
  },
  {
   "cell_type": "markdown",
   "id": "34bd6b58-15ed-4a29-bae0-5630ad01888c",
   "metadata": {},
   "source": [
    "## **Conditional Statements**"
   ]
  },
  {
   "cell_type": "code",
   "execution_count": 41,
   "id": "f38260a3-ff6c-43c9-8cc4-59d3fd40b405",
   "metadata": {},
   "outputs": [
    {
     "name": "stdin",
     "output_type": "stream",
     "text": [
      "Please enter the first integer:  300\n",
      "Please enter the second integer:  200\n",
      "Please enter the third integer:  100\n"
     ]
    },
    {
     "name": "stdout",
     "output_type": "stream",
     "text": [
      "The first number is the maximum number...\n",
      "So the maximum number is 300\n",
      "End of the program...\n"
     ]
    }
   ],
   "source": [
    "# Take three numbers from the user as input and find the maximum of these three numbers\n",
    "num1 = int(input(\"Please enter the first integer: \"))\n",
    "num2 = int(input(\"Please enter the second integer: \"))\n",
    "num3 = int(input(\"Please enter the third integer: \"))\n",
    "if (num1 > num2):\n",
    "    if (num1 > num3):\n",
    "        print (\"The first number is the maximum number...\")\n",
    "        print (\"So the maximum number is\", num1)\n",
    "    else:\n",
    "        print (\"The third number is the maximum number...\")\n",
    "        print (\"So the maximum number is\", num3)\n",
    "elif (num2 > num3):\n",
    "    print (\"The second number is the maximum number...\")\n",
    "    print (\"So the maximum number is\", num2)\n",
    "else:\n",
    "    print (\"The third number is the maximum number...\")\n",
    "    print (\"So the maximum number is\", num3)\n",
    "print (\"End of the program...\")"
   ]
  },
  {
   "cell_type": "code",
   "execution_count": 44,
   "id": "93d6e830-9393-475c-94cc-12ca14d9b974",
   "metadata": {},
   "outputs": [
    {
     "name": "stdin",
     "output_type": "stream",
     "text": [
      "Please enter the first integer:  200\n",
      "Please enter the second integer:  100\n",
      "Please enter the third integer:  300\n"
     ]
    },
    {
     "name": "stdout",
     "output_type": "stream",
     "text": [
      "The third number is the maximum number...\n",
      "So the maximum number is 300\n",
      "End of the program...\n"
     ]
    }
   ],
   "source": [
    "# Take three numbers from the user as input and find the maximum of these numbers\n",
    "num1 = int(input(\"Please enter the first integer: \"))\n",
    "num2 = int(input(\"Please enter the second integer: \"))\n",
    "num3 = int(input(\"Please enter the third integer: \"))\n",
    "if (num1 > num2 and num1 > num3):\n",
    "    print (\"The first number is the maximum number...\")\n",
    "    print (\"So the maximum number is\", num1)\n",
    "elif (num2 > num3):\n",
    "    print (\"The second number is the maximum number...\")\n",
    "    print (\"So the maximum number is\", num2)\n",
    "else:\n",
    "    print (\"The third number is the maximum number...\")\n",
    "    print (\"So the maximum number is\", num3)\n",
    "print (\"End of the program...\")"
   ]
  },
  {
   "cell_type": "code",
   "execution_count": 47,
   "id": "4a3440ec-de0e-46e9-8c60-e90da96fa385",
   "metadata": {},
   "outputs": [
    {
     "name": "stdout",
     "output_type": "stream",
     "text": [
      "M A I N  M E N U ...\n",
      "~~~~~~~~~~~~~~~~~~~~\n",
      "1 >  A D D I T I O N  O P E R A T I O N ...\n",
      "2 >  S U B T R A C T I O N  O P E R A T I O N ...\n",
      "3 >  M U L T I P L I C A T I O N  O P E R A T I O N ...\n",
      "4 >  D I V I S I O N  O P E R A T I O N ...\n"
     ]
    },
    {
     "name": "stdin",
     "output_type": "stream",
     "text": [
      "Please enter youe choice integer (1 to 4):  4\n",
      "Please enter the first integer:  100\n",
      "Please enter the second integer:  0\n"
     ]
    },
    {
     "name": "stdout",
     "output_type": "stream",
     "text": [
      "Performing the division operation...\n",
      "Division by ZERO is Illegal !!!\n",
      "Division operation can not be carried out...\n",
      "End of the program...\n"
     ]
    }
   ],
   "source": [
    "# Calculator Program\n",
    "print (\"M A I N  M E N U ...\")\n",
    "print (\"~~~~~~~~~~~~~~~~~~~~\")\n",
    "print (\"1 >  A D D I T I O N  O P E R A T I O N ...\")\n",
    "print (\"2 >  S U B T R A C T I O N  O P E R A T I O N ...\")\n",
    "print (\"3 >  M U L T I P L I C A T I O N  O P E R A T I O N ...\")\n",
    "print (\"4 >  D I V I S I O N  O P E R A T I O N ...\")\n",
    "choice = int(input(\"Please enter youe choice integer (1 to 4): \"))\n",
    "num1 = int(input(\"Please enter the first integer: \"))\n",
    "num2 = int(input(\"Please enter the second integer: \"))\n",
    "if (choice == 1):\n",
    "    print (\"Performing the addition operation...\")\n",
    "    result = num1 + num2\n",
    "    print (f\"So {num1} + {num2} = {result}\")\n",
    "elif (choice == 2):\n",
    "    print (\"Performing the subtraction operation...\")\n",
    "    result = num1 - num2\n",
    "    print (f\"So {num1} - {num2} = {result}\")\n",
    "elif (choice == 3):\n",
    "    print (\"Performing the multiplication operation...\")\n",
    "    result = num1 * num2\n",
    "    print (f\"So {num1} * {num2} = {result}\")\n",
    "elif (choice == 4):\n",
    "    print (\"Performing the division operation...\")\n",
    "    if (num2 == 0):\n",
    "        print (\"Division by ZERO is Illegal !!!\")\n",
    "        print (\"Division operation can not be carried out...\")\n",
    "    else:\n",
    "        result = num1 / num2\n",
    "        print (f\"So {num1} / {num2} = {result}\")\n",
    "else:\n",
    "    print (\"Invalid choice number has been provided...\")\n",
    "    print (\"No operation could get carried out...\")\n",
    "print (\"End of the program...\")"
   ]
  },
  {
   "cell_type": "markdown",
   "id": "bd8c47e2-7219-43d7-83f9-b97fb990b242",
   "metadata": {},
   "source": [
    "## **'print' function**"
   ]
  },
  {
   "cell_type": "code",
   "execution_count": 49,
   "id": "1be12a14-e700-4ee3-814e-1909451fbdcc",
   "metadata": {},
   "outputs": [
    {
     "name": "stdout",
     "output_type": "stream",
     "text": [
      "Hello to all\n",
      "Good afternoon\n"
     ]
    }
   ],
   "source": [
    "print (\"Hello\", \"to all\")\n",
    "print (\"Good afternoon\")"
   ]
  },
  {
   "cell_type": "code",
   "execution_count": 50,
   "id": "727d6c39-9f29-4d57-865b-e251c7ddc178",
   "metadata": {},
   "outputs": [
    {
     "name": "stdout",
     "output_type": "stream",
     "text": [
      "Help on built-in function print in module builtins:\n",
      "\n",
      "print(...)\n",
      "    print(value, ..., sep=' ', end='\\n', file=sys.stdout, flush=False)\n",
      "    \n",
      "    Prints the values to a stream, or to sys.stdout by default.\n",
      "    Optional keyword arguments:\n",
      "    file:  a file-like object (stream); defaults to the current sys.stdout.\n",
      "    sep:   string inserted between values, default a space.\n",
      "    end:   string appended after the last value, default a newline.\n",
      "    flush: whether to forcibly flush the stream.\n",
      "\n"
     ]
    }
   ],
   "source": [
    "help (print)   # ... ellipsis operator"
   ]
  },
  {
   "cell_type": "code",
   "execution_count": 51,
   "id": "7268d9d7-2c4a-44ff-872d-3a39204cc2f9",
   "metadata": {},
   "outputs": [
    {
     "name": "stdout",
     "output_type": "stream",
     "text": [
      "Hello - to all, Good afternoon\n"
     ]
    }
   ],
   "source": [
    "print (\"Hello\", \"to all\", sep = \" - \", end = \", \")\n",
    "print (\"Good afternoon\")"
   ]
  },
  {
   "cell_type": "markdown",
   "id": "ca9001fe-0d26-478b-920a-ad3bff1d445b",
   "metadata": {},
   "source": [
    "# **Day-2**"
   ]
  },
  {
   "cell_type": "markdown",
   "id": "e6dc57f4-8bbd-4422-aeda-b734b7af967f",
   "metadata": {},
   "source": [
    "## **Python Loops**"
   ]
  },
  {
   "cell_type": "code",
   "execution_count": 3,
   "id": "202a5621-71cd-47be-ae78-e8c78b9ea1ba",
   "metadata": {},
   "outputs": [
    {
     "name": "stdout",
     "output_type": "stream",
     "text": [
      "i = 0\n",
      "i = 1\n",
      "i = 2\n",
      "i = 3\n",
      "i = 4\n",
      "i = 5\n",
      "i = 6\n",
      "i = 7\n",
      "i = 8\n",
      "i = 9\n",
      "End of the loop execution...\n"
     ]
    }
   ],
   "source": [
    "# for i in range(10):\n",
    "# for i in range(0, 10):\n",
    "for i in range(0, 10, 1):\n",
    "    print (\"i =\", i)\n",
    "print (\"End of the loop execution...\")"
   ]
  },
  {
   "cell_type": "code",
   "execution_count": 4,
   "id": "eff42c60-a006-41c6-a2df-92891d6ddd36",
   "metadata": {},
   "outputs": [
    {
     "name": "stdout",
     "output_type": "stream",
     "text": [
      "i = 0\n",
      "i = 2\n",
      "i = 4\n",
      "i = 6\n",
      "i = 8\n",
      "End of the loop execution...\n"
     ]
    }
   ],
   "source": [
    "for i in range(0, 10, 2):\n",
    "    print (\"i =\", i)\n",
    "print (\"End of the loop execution...\")"
   ]
  },
  {
   "cell_type": "code",
   "execution_count": 6,
   "id": "284e8905-a69b-4a64-98dc-84be8b06d505",
   "metadata": {},
   "outputs": [
    {
     "name": "stdout",
     "output_type": "stream",
     "text": [
      "i = 10\n",
      "i = 9\n",
      "i = 8\n",
      "i = 7\n",
      "i = 6\n",
      "i = 5\n",
      "i = 4\n",
      "i = 3\n",
      "i = 2\n",
      "i = 1\n",
      "End of the loop execution...\n"
     ]
    }
   ],
   "source": [
    "for i in range(10, 0, -1):\n",
    "    print (\"i =\", i)\n",
    "print (\"End of the loop execution...\")"
   ]
  },
  {
   "cell_type": "code",
   "execution_count": 12,
   "id": "6286701a-4722-4cb3-8126-8f7294c1ad48",
   "metadata": {},
   "outputs": [
    {
     "name": "stdout",
     "output_type": "stream",
     "text": [
      "i = -5\n",
      "i = -4\n",
      "i = -3\n",
      "i = -2\n",
      "i = -1\n",
      "i = 0\n",
      "i = 1\n",
      "i = 2\n",
      "i = 3\n",
      "i = 4\n",
      "ELSE block is executing...\n",
      "Had a smooth execution...\n",
      "So total number iterations = 10\n",
      "End of the loop execution...\n"
     ]
    }
   ],
   "source": [
    "count = 0\n",
    "for i in range(-5, +5, 1):\n",
    "    print (\"i =\", i)\n",
    "    # count = count + 1\n",
    "    count += 1\n",
    "else:\n",
    "    print (\"ELSE block is executing...\")\n",
    "    print (\"Had a smooth execution...\")\n",
    "print (\"So total number iterations =\", count)\n",
    "print (\"End of the loop execution...\")"
   ]
  },
  {
   "cell_type": "code",
   "execution_count": 23,
   "id": "256b82e7-338e-492d-8c12-c32b2f7f1561",
   "metadata": {},
   "outputs": [
    {
     "name": "stdout",
     "output_type": "stream",
     "text": [
      "i = 1\n",
      "i = 2\n",
      "i = 3\n",
      "i = 4\n",
      "i = 5\n",
      "i = 6\n",
      "i = 7\n",
      "i = 8\n",
      "ELSE block is executing...\n",
      "Had a smooth execution...\n",
      "So total number iterations = 8\n",
      "End of the loop execution...\n"
     ]
    }
   ],
   "source": [
    "count = 0\n",
    "for i in range(1, 9):\n",
    "    print (\"i =\", i)\n",
    "    count += 1\n",
    "else:\n",
    "    print (\"ELSE block is executing...\")\n",
    "    print (\"Had a smooth execution...\")\n",
    "print (\"So total number iterations =\", count)\n",
    "print (\"End of the loop execution...\")"
   ]
  },
  {
   "cell_type": "code",
   "execution_count": 16,
   "id": "ec9f30a6-cf3a-46d7-b86f-180bdd23a8cc",
   "metadata": {},
   "outputs": [
    {
     "name": "stdout",
     "output_type": "stream",
     "text": [
      "i = 1\n",
      "i = 2\n",
      "i = 3\n",
      "i = 4\n",
      "Executing the break statement and coming out from the loop instantly...\n",
      "So total number iterations = 3\n",
      "End of the loop execution...\n"
     ]
    }
   ],
   "source": [
    "count = 0\n",
    "for i in range(1, 9):\n",
    "    print (\"i =\", i)\n",
    "    if (i == 4): \n",
    "        print (\"Executing the break statement and coming out from the loop instantly...\")\n",
    "        break\n",
    "    count += 1\n",
    "else:\n",
    "    print (\"ELSE block is executing...\")\n",
    "    print (\"Had a smooth execution...\")\n",
    "print (\"So total number iterations =\", count)\n",
    "print (\"End of the loop execution...\")"
   ]
  },
  {
   "cell_type": "code",
   "execution_count": 18,
   "id": "2a86350c-e2f9-46f9-a36f-da288f84ee2e",
   "metadata": {},
   "outputs": [
    {
     "name": "stdin",
     "output_type": "stream",
     "text": [
      "Please enter one integer:  100\n"
     ]
    },
    {
     "name": "stdout",
     "output_type": "stream",
     "text": [
      "100 is Not a PRIME Number...\n",
      "End of the program...\n"
     ]
    }
   ],
   "source": [
    "# find whether the user given integer is a PRIME number or not\n",
    "num = int(input(\"Please enter one integer: \"))\n",
    "for factor in range(2, num):\n",
    "    if (num % factor == 0):\n",
    "        print (f\"{num} is Not a PRIME Number...\")\n",
    "        break\n",
    "else:\n",
    "    print (f\"{num} is a PRIME Number...\")\n",
    "print (\"End of the program...\")"
   ]
  },
  {
   "cell_type": "code",
   "execution_count": 24,
   "id": "4dc68581-5e9c-4f1d-b110-a28f79afd6ec",
   "metadata": {},
   "outputs": [
    {
     "name": "stdout",
     "output_type": "stream",
     "text": [
      "i = 1\n",
      "i = 2\n",
      "i = 3\n",
      "Going for the next iteration for i = 4\n",
      "i = 5\n",
      "Going for the next iteration for i = 6\n",
      "i = 7\n",
      "i = 8\n",
      "ELSE block is executing...\n",
      "Had a smooth execution...\n",
      "So total number iterations = 6\n",
      "End of the loop execution...\n"
     ]
    }
   ],
   "source": [
    "count = 0\n",
    "for i in range(1, 9):\n",
    "    if (i == 4 or i == 6):\n",
    "        print (f\"Going for the next iteration for i = {i}\")\n",
    "        continue\n",
    "    print (\"i =\", i)\n",
    "    count += 1\n",
    "else:\n",
    "    print (\"ELSE block is executing...\")\n",
    "    print (\"Had a smooth execution...\")\n",
    "print (\"So total number iterations =\", count)\n",
    "print (\"End of the loop execution...\")"
   ]
  },
  {
   "cell_type": "code",
   "execution_count": 26,
   "id": "28f447f0-b908-4b54-b77e-e9db4a0246d5",
   "metadata": {},
   "outputs": [
    {
     "name": "stdout",
     "output_type": "stream",
     "text": [
      "i = 1\n",
      "i = 2\n",
      "i = 3\n",
      "Going for the next iteration for i = 4\n",
      "i = 5\n",
      "Going for the next iteration for i = 6\n",
      "i = 7\n",
      "i = 8\n",
      "ELSE block is executing...\n",
      "Had a smooth execution...\n",
      "So total number iterations = 6\n",
      "End of the loop execution...\n"
     ]
    }
   ],
   "source": [
    "count = 0\n",
    "for i in range(1, 9):\n",
    "    if (i != 4 and i != 6):\n",
    "        pass   # pass is a statement place holder\n",
    "    else:\n",
    "        print (f\"Going for the next iteration for i = {i}\")\n",
    "        continue\n",
    "    print (\"i =\", i)\n",
    "    count += 1\n",
    "else:\n",
    "    print (\"ELSE block is executing...\")\n",
    "    print (\"Had a smooth execution...\")\n",
    "print (\"So total number iterations =\", count)\n",
    "print (\"End of the loop execution...\")"
   ]
  },
  {
   "cell_type": "code",
   "execution_count": 28,
   "id": "fd2515d0-7c31-40ee-bfec-e5dcb1a1c6a7",
   "metadata": {},
   "outputs": [
    {
     "name": "stdout",
     "output_type": "stream",
     "text": [
      "Executing for i = 1...\n",
      "Executing for i = 2...\n",
      "Executing for i = 3...\n",
      "Executing for i = 4...\n",
      "Executing for i = 5...\n",
      "Executing for i = 6...\n",
      "Executing for i = 7...\n",
      "Executing for i = 8...\n",
      "ELSE block is executing...\n",
      "Had a smooth execution...\n",
      "So total number iterations = 8...\n",
      "End of the loop execution...\n"
     ]
    }
   ],
   "source": [
    "i = 1\n",
    "count = 0\n",
    "while (i <= 8):\n",
    "    print (f\"Executing for i = {i}...\")\n",
    "    i = i + 1\n",
    "    count = count + 1\n",
    "else:\n",
    "    print (\"ELSE block is executing...\")\n",
    "    print (\"Had a smooth execution...\")\n",
    "print (f\"So total number iterations = {count}...\")\n",
    "print (\"End of the loop execution...\")"
   ]
  },
  {
   "cell_type": "code",
   "execution_count": 30,
   "id": "787b7227-4d7e-4b60-b53f-545213404bc7",
   "metadata": {},
   "outputs": [
    {
     "name": "stdout",
     "output_type": "stream",
     "text": [
      "Visit DOCTOR...\n",
      "Good Morning...\n",
      "Day number = 1 and medicine number = 1...\n",
      "Day number = 1 and medicine number = 2...\n",
      "Day number = 1 and medicine number = 3...\n",
      "Good Night...\n",
      "-----------------------------------------------------------\n",
      "Good Morning...\n",
      "Day number = 2 and medicine number = 1...\n",
      "Day number = 2 and medicine number = 2...\n",
      "Day number = 2 and medicine number = 3...\n",
      "Good Night...\n",
      "-----------------------------------------------------------\n",
      "Good Morning...\n",
      "Day number = 3 and medicine number = 1...\n",
      "Day number = 3 and medicine number = 2...\n",
      "Day number = 3 and medicine number = 3...\n",
      "Good Night...\n",
      "-----------------------------------------------------------\n",
      "Good Morning...\n",
      "Day number = 4 and medicine number = 1...\n",
      "Day number = 4 and medicine number = 2...\n",
      "Day number = 4 and medicine number = 3...\n",
      "Good Night...\n",
      "-----------------------------------------------------------\n",
      "Good Morning...\n",
      "Day number = 5 and medicine number = 1...\n",
      "Day number = 5 and medicine number = 2...\n",
      "Day number = 5 and medicine number = 3...\n",
      "Good Night...\n",
      "-----------------------------------------------------------\n",
      "Thanks to DOCTOR...\n",
      "So total number of medicines consumed is 15...\n"
     ]
    }
   ],
   "source": [
    "# example on nested loops\n",
    "print (\"Visit DOCTOR...\")    # 1 time\n",
    "medicount = 0\n",
    "for day in range(1, 6):\n",
    "    print (\"Good Morning...\")    # 5 times\n",
    "    for medi in range(1, 4):\n",
    "        print (f\"Day number = {day} and medicine number = {medi}...\")    # 15 times\n",
    "        medicount += 1\n",
    "    print (\"Good Night...\")    # 5 times\n",
    "    print (\"-----------------------------------------------------------\")    # 5 times\n",
    "print (\"Thanks to DOCTOR...\")    # 1 time\n",
    "print (f\"So total number of medicines consumed is {medicount}...\")"
   ]
  },
  {
   "cell_type": "code",
   "execution_count": 31,
   "id": "72e45b72-1ae6-4435-90cb-56a2408d361b",
   "metadata": {},
   "outputs": [
    {
     "name": "stdout",
     "output_type": "stream",
     "text": [
      "Visit DOCTOR...\n",
      "Good Morning...\n",
      "Day number = 1 and medicine number = 1...\n",
      "Day number = 1 and medicine number = 2...\n",
      "Day number = 1 and medicine number = 3...\n",
      "Good Night...\n",
      "-----------------------------------------------------------\n",
      "Good Morning...\n",
      "Day number = 2 and medicine number = 1...\n",
      "Day number = 2 and medicine number = 2...\n",
      "Day number = 2 and medicine number = 3...\n",
      "Good Night...\n",
      "-----------------------------------------------------------\n",
      "Good Morning...\n",
      "Day number = 3 and medicine number = 1...\n",
      "Day number = 3 and medicine number = 2...\n",
      "Day number = 3 and medicine number = 3...\n",
      "Good Night...\n",
      "-----------------------------------------------------------\n",
      "Good Morning...\n",
      "Day number = 4 and medicine number = 1...\n",
      "Day number = 4 and medicine number = 2...\n",
      "Day number = 4 and medicine number = 3...\n",
      "Good Night...\n",
      "-----------------------------------------------------------\n",
      "Good Morning...\n",
      "Day number = 5 and medicine number = 1...\n",
      "Day number = 5 and medicine number = 2...\n",
      "Day number = 5 and medicine number = 3...\n",
      "Good Night...\n",
      "-----------------------------------------------------------\n",
      "Thanks to DOCTOR...\n",
      "So total number of medicines consumed is 15...\n"
     ]
    }
   ],
   "source": [
    "# example on nested loops\n",
    "print (\"Visit DOCTOR...\")    # 1 time\n",
    "medicount = 0\n",
    "day = 1\n",
    "while (day <= 5):\n",
    "    print (\"Good Morning...\")    # 5 times\n",
    "    medi = 1\n",
    "    while (medi <= 3):\n",
    "        print (f\"Day number = {day} and medicine number = {medi}...\")    # 15 times\n",
    "        medicount += 1\n",
    "        medi += 1\n",
    "    print (\"Good Night...\")    # 5 times\n",
    "    print (\"-----------------------------------------------------------\")    # 5 times\n",
    "    day += 1\n",
    "print (\"Thanks to DOCTOR...\")    # 1 time\n",
    "print (f\"So total number of medicines consumed is {medicount}...\")"
   ]
  },
  {
   "cell_type": "code",
   "execution_count": 34,
   "id": "46d78995-1a37-443a-8f06-73464943e5d9",
   "metadata": {},
   "outputs": [
    {
     "name": "stdout",
     "output_type": "stream",
     "text": [
      "Hello Hello Hello Hello Hello \n",
      "Hi Hi Hi Hi Hi Hi Hi Hi \n"
     ]
    }
   ],
   "source": [
    "print (\"Hello \" * 5)\n",
    "print (\"Hi \" * 8)"
   ]
  },
  {
   "cell_type": "code",
   "execution_count": null,
   "id": "f9b45496-82d8-4c54-a80f-367df7139e81",
   "metadata": {},
   "outputs": [],
   "source": [
    "Pattern - 1\n",
    "-----------\n",
    "n = 6 (User input)    i   .   *\n",
    "                   ---------------\n",
    ".....*                1   5   1        (i, n)\n",
    "....***               2   4   3   . => (n - i)\n",
    "...*****              3   3   5\n",
    "..*******             4   2   7   * => (2 * i - 1)\n",
    ".*********            5   1   9\n",
    "***********           6   0  11\n",
    "                   ---------------\n",
    "                    Tracing Table"
   ]
  },
  {
   "cell_type": "code",
   "execution_count": 39,
   "id": "a61126c1-752f-49bf-af71-a3ef1a7f9c81",
   "metadata": {},
   "outputs": [
    {
     "name": "stdin",
     "output_type": "stream",
     "text": [
      "Please enter the number of layers in the pattern:  11\n"
     ]
    },
    {
     "name": "stdout",
     "output_type": "stream",
     "text": [
      "..........*\n",
      ".........***\n",
      "........*****\n",
      ".......*******\n",
      "......*********\n",
      ".....***********\n",
      "....*************\n",
      "...***************\n",
      "..*****************\n",
      ".*******************\n",
      "*********************\n",
      "End of the program...\n"
     ]
    }
   ],
   "source": [
    "n = int(input(\"Please enter the number of layers in the pattern: \"))\n",
    "for i in range(1, (n + 1)):\n",
    "    print (\".\" * (n - i) + \"*\" * (2 * i - 1))\n",
    "print (\"End of the program...\")"
   ]
  },
  {
   "cell_type": "code",
   "execution_count": null,
   "id": "4deac4c2-979c-436b-b0c6-0401aeaaaf91",
   "metadata": {},
   "outputs": [],
   "source": [
    "Pattern - 2\n",
    "-----------\n",
    "n = 6 (User input)    i   .   *\n",
    "                   ---------------\n",
    "***********           1   0  11        (i, n)\n",
    ".*********            2   1   9   . => (i - 1)\n",
    "..*******             3   2   7\n",
    "...*****              4   3   5   * => (2 * (n - i) + 1)\n",
    "....***               5   4   3\n",
    ".....*                6   5   1\n",
    "                   ---------------\n",
    "                    Tracing Table"
   ]
  },
  {
   "cell_type": "code",
   "execution_count": 42,
   "id": "2df80eb9-90b2-4d2a-9e78-529d56186590",
   "metadata": {},
   "outputs": [
    {
     "name": "stdin",
     "output_type": "stream",
     "text": [
      "Please enter the number of layers in the pattern:  6\n"
     ]
    },
    {
     "name": "stdout",
     "output_type": "stream",
     "text": [
      "***********\n",
      ".*********\n",
      "..*******\n",
      "...*****\n",
      "....***\n",
      ".....*\n",
      "End of the program...\n"
     ]
    }
   ],
   "source": [
    "n = int(input(\"Please enter the number of layers in the pattern: \"))\n",
    "for i in range(1, (n + 1)):\n",
    "    print (\".\" * (i - 1) + \"*\" * (2 * (n - i) + 1))\n",
    "print (\"End of the program...\")"
   ]
  },
  {
   "cell_type": "code",
   "execution_count": 43,
   "id": "d60320b6-4ace-420b-a37a-433d823b6ec1",
   "metadata": {},
   "outputs": [
    {
     "name": "stdin",
     "output_type": "stream",
     "text": [
      "Please enter the number of terms of the series:  12\n"
     ]
    },
    {
     "name": "stdout",
     "output_type": "stream",
     "text": [
      "Adding ordinary term = 1...\n",
      "Adding ordinary term = 2...\n",
      "Adding ordinary term = 3...\n",
      "Adding ordinary term = 4...\n",
      "Adding tsum = 10...\n",
      "Adding ordinary term = 5...\n",
      "Adding ordinary term = 6...\n",
      "Adding ordinary term = 7...\n",
      "Adding ordinary term = 8...\n",
      "Adding tsum = 26...\n",
      "Adding ordinary term = 9...\n",
      "Adding ordinary term = 10...\n",
      "So the final sum is 91...\n",
      "End of the program...\n"
     ]
    }
   ],
   "source": [
    "# Series problem\n",
    "# total = 1 + 2 + 3 + 4 + 10 + 5 + 6 + 7 + 8 + 26 + 9 + 10 + 11 + ... n terms\n",
    "# find the sum of the series for first n terms where n will be given by the user.\n",
    "n = int(input(\"Please enter the number of terms of the series: \"))\n",
    "term = 1\n",
    "fsum = tsum = 0\n",
    "for i in range(1, (n + 1)):\n",
    "    if (i % 5 == 0):\n",
    "        fsum += tsum\n",
    "        print (f\"Adding tsum = {tsum}...\")\n",
    "        tsum = 0\n",
    "    else:\n",
    "        fsum += term\n",
    "        tsum += term\n",
    "        print (f\"Adding ordinary term = {term}...\")\n",
    "        term += 1\n",
    "print (f\"So the final sum is {fsum}...\")\n",
    "print (\"End of the program...\")"
   ]
  },
  {
   "cell_type": "markdown",
   "id": "ffee2327-58f2-4252-90e9-356cd69e141a",
   "metadata": {},
   "source": [
    "# **Day-3**"
   ]
  },
  {
   "cell_type": "markdown",
   "id": "b2bf187c-6048-4af3-894b-586fe5297d8a",
   "metadata": {},
   "source": [
    "## Python inbuilt collections"
   ]
  },
  {
   "cell_type": "code",
   "execution_count": 1,
   "id": "19d20746-7181-4130-8049-259c1f3d08f1",
   "metadata": {},
   "outputs": [
    {
     "name": "stdout",
     "output_type": "stream",
     "text": [
      "[100, 2.45, True, 'Food', 201] 5 <class 'list'> 2545078925760\n",
      "(100, 2.45, True, 'Food', 201) 5 <class 'tuple'> 2545078477312\n",
      "{'name': 'Bidisha', 'location': 'Noida', 'job': 'Developer', 'company': 'Accenture'} 4 <class 'dict'> 2545078138752\n",
      "{True, 2.45, 100, 'Food', 201, 'Delhi'} 6 <class 'set'> 2545077299552\n",
      "frozenset({True, 2.45, 100, 'Food', 201, 'Delhi'}) 6 <class 'frozenset'> 2545077300000\n"
     ]
    }
   ],
   "source": [
    "# different inbuilt collections\n",
    "list1 = [100, 2.45, True, \"Food\", 201]   # mutable\n",
    "print (list1, len(list1), type(list1), id(list1))\n",
    "tuple1 = (100, 2.45, True, \"Food\", 201)   # immutable, read only\n",
    "print (tuple1, len(tuple1), type(tuple1), id(tuple1))\n",
    "dict1 = {'name':'Bidisha', 'location':'Noida', 'job':'Developer', 'company':'Accenture'} # mutable\n",
    "print (dict1, len(dict1), type(dict1), id(dict1))\n",
    "set1 = {\"Delhi\", 100, 2.45, True, \"Food\", 201, True, \"Food\", 201}   # mutable\n",
    "print (set1, len(set1), type(set1), id(set1))\n",
    "fset1 = frozenset([\"Delhi\", 100, 2.45, True, \"Food\", 201, True, \"Food\", 201]) # immutable, read only\n",
    "print (fset1, len(fset1), type(fset1), id(fset1))"
   ]
  },
  {
   "cell_type": "code",
   "execution_count": 3,
   "id": "5b54a030-ebe6-493d-ab3c-ebf0113ef71c",
   "metadata": {},
   "outputs": [
    {
     "name": "stdout",
     "output_type": "stream",
     "text": [
      "[] 0 <class 'list'>\n",
      "() 0 <class 'tuple'>\n",
      "{} 0 <class 'dict'>\n",
      "set() 0 <class 'set'>\n",
      "frozenset() 0 <class 'frozenset'>\n"
     ]
    }
   ],
   "source": [
    "# dealing with empty collections\n",
    "var1 = []; print (var1, len(var1), type(var1))\n",
    "var1 = (); print (var1, len(var1), type(var1))\n",
    "var1 = {}; print (var1, len(var1), type(var1))\n",
    "var1 = set(); print (var1, len(var1), type(var1))\n",
    "var1 = frozenset(); print (var1, len(var1), type(var1))"
   ]
  },
  {
   "cell_type": "markdown",
   "id": "7b9ba8a6-1981-46d6-a5b4-0cc096970952",
   "metadata": {},
   "source": [
    "## User Defined Functions (UDF)"
   ]
  },
  {
   "cell_type": "code",
   "execution_count": 6,
   "id": "c91b52ff-bf63-4bbb-a2b8-2f4e77677937",
   "metadata": {},
   "outputs": [
    {
     "name": "stdout",
     "output_type": "stream",
     "text": [
      "Hello Hello Hello Hello Hello \n",
      "Welcome Welcome Welcome \n",
      "\n",
      "Hello Hello Hello Hello Hello \n",
      "Welcome Welcome Welcome \n",
      "\n",
      "Hello Hello Hello Hello Hello \n",
      "Welcome Welcome Welcome \n",
      "\n"
     ]
    }
   ],
   "source": [
    "def funct1():\n",
    "    print (\"Hello \" * 5)\n",
    "    print (\"Welcome \" * 3)\n",
    "    print ()\n",
    "\n",
    "funct1()\n",
    "funct1()\n",
    "funct1()"
   ]
  },
  {
   "cell_type": "code",
   "execution_count": 8,
   "id": "261f4bbf-b6ed-4976-8b84-e3f64088626a",
   "metadata": {},
   "outputs": [
    {
     "name": "stdout",
     "output_type": "stream",
     "text": [
      "Welcome Welcome Welcome Welcome Welcome \n",
      "Hello Hello Hello Hello Hello Hello Hello Hello Hello Hello \n",
      "Hi !!! Hi !!! Hi !!! Hi !!! \n"
     ]
    }
   ],
   "source": [
    "def funct2(msg, times):   # positional parameters\n",
    "    print (msg * times)\n",
    "\n",
    "funct2(\"Welcome \", 5)   # positional arguments\n",
    "funct2(\"Hello \", 10)\n",
    "funct2(\"Hi !!! \", 4)"
   ]
  },
  {
   "cell_type": "code",
   "execution_count": 9,
   "id": "d269bc6a-03c3-471e-aeb4-628e48efa98d",
   "metadata": {},
   "outputs": [
    {
     "name": "stdout",
     "output_type": "stream",
     "text": [
      "Welcome Welcome Welcome Welcome Welcome \n",
      "Hello Hello Hello Hello Hello Hello Hello Hello Hello Hello \n",
      "Hi !!! Hi !!! Hi !!! Hi !!! \n"
     ]
    }
   ],
   "source": [
    "def funct3(msg, times):   # positional parameters\n",
    "    return msg * times\n",
    "\n",
    "result = funct3(\"Welcome \", 5)   # positional arguments\n",
    "print (result)\n",
    "print (funct3(\"Hello \", 10))\n",
    "print (funct3(\"Hi !!! \", 4) )"
   ]
  },
  {
   "cell_type": "code",
   "execution_count": 19,
   "id": "61ac15e1-e225-451f-8015-2bf7df430f3c",
   "metadata": {},
   "outputs": [
    {
     "name": "stdout",
     "output_type": "stream",
     "text": [
      "par1 = 100, par2 = 200, par3 = 300\n",
      "par1 = 100, par2 = 200, par3 = 333\n",
      "par1 = 100, par2 = 222, par3 = 333\n",
      "par1 = 111, par2 = 222, par3 = 333\n",
      "par1 = 100, par2 = 222, par3 = 300\n",
      "par1 = 100, par2 = 222, par3 = 300\n",
      "par1 = 111, par2 = 200, par3 = 333\n"
     ]
    }
   ],
   "source": [
    "# function with default arguments\n",
    "def funct4(par1 = 111, par2 = 222, par3 = 333):\n",
    "    print (f\"par1 = {par1}, par2 = {par2}, par3 = {par3}\")\n",
    "    \n",
    "funct4(100, 200, 300)\n",
    "funct4(100, 200)\n",
    "funct4(100)\n",
    "funct4()\n",
    "funct4(par1 = 100, par3 = 300)\n",
    "funct4(par3 = 300, par1 = 100)\n",
    "funct4(par2 = 200)"
   ]
  },
  {
   "cell_type": "code",
   "execution_count": 22,
   "id": "e6fa2a6e-6656-4ba0-96eb-8ac50718401a",
   "metadata": {},
   "outputs": [
    {
     "name": "stdout",
     "output_type": "stream",
     "text": [
      "500\n",
      "200\n"
     ]
    }
   ],
   "source": [
    "def funct5(num1, num2 = None):\n",
    "    if (num2 == None):\n",
    "    # if (num2 is None):\n",
    "        return 2 * num1\n",
    "    else:\n",
    "        return num1 + num2\n",
    "    \n",
    "print (funct5(100, 400))\n",
    "print (funct5(100))"
   ]
  },
  {
   "cell_type": "code",
   "execution_count": 24,
   "id": "ccf5efd7-506f-410b-91fa-b658bd34a578",
   "metadata": {},
   "outputs": [
    {
     "name": "stdout",
     "output_type": "stream",
     "text": [
      "Total = 140, Difference = 60, Product = 4000 and Quitient = 2.5...\n",
      "(140, 60, 4000, 2.5) 4 <class 'tuple'> 2545115452960\n",
      "Total = 140, Difference = 60, Product = 4000 and Quitient = 2.5...\n"
     ]
    }
   ],
   "source": [
    "# function returning multiple arguments\n",
    "def funct6(num1, num2): \n",
    "    total = num1 + num2\n",
    "    difference = num1 - num2\n",
    "    product = num1 * num2\n",
    "    quotient = num1 / num2\n",
    "    return total, difference, product, quotient\n",
    "\n",
    "tt, dd, pp, qq = funct6(100, 40)\n",
    "print (f\"Total = {tt}, Difference = {dd}, Product = {pp} and Quitient = {qq}...\")\n",
    "result = funct6(100, 40)\n",
    "print (result, len(result), type(result), id(result))\n",
    "print (f\"Total = {result[0]}, Difference = {result[1]}, Product = {result[2]} and Quitient = {result[3]}...\")"
   ]
  },
  {
   "cell_type": "code",
   "execution_count": 25,
   "id": "6fdf0288-bd4f-41a3-93dd-6b4fe29825a3",
   "metadata": {},
   "outputs": [
    {
     "name": "stdout",
     "output_type": "stream",
     "text": [
      "('Amitava', 'Developer', 65000) 3 <class 'tuple'> 2545115383616\n",
      "('Amitava', 'Developer', 65000, 'Pune') 4 <class 'tuple'> 2545115451040\n",
      "('Amitava', 'Developer', 65000, 'Pune', 'Masters') 5 <class 'tuple'> 2545114973504\n"
     ]
    }
   ],
   "source": [
    "# function with variable number of arguments\n",
    "def funct7(*arg):    # *arg means forcefully defining arg as a tuple type object\n",
    "    print (arg, len(arg), type(arg), id(arg))\n",
    "    \n",
    "funct7(\"Amitava\", \"Developer\", 65000)\n",
    "funct7(\"Amitava\", \"Developer\", 65000, \"Pune\")\n",
    "funct7(\"Amitava\", \"Developer\", 65000, \"Pune\", \"Masters\")"
   ]
  },
  {
   "cell_type": "code",
   "execution_count": 26,
   "id": "029153f9-fbbd-45f6-af0b-9af95a72a729",
   "metadata": {},
   "outputs": [
    {
     "name": "stdout",
     "output_type": "stream",
     "text": [
      "{'name': 'Amitava', 'job': 'Developer', 'salary': 65000, 'location': 'Pune'} 4 <class 'dict'> 2545078127872\n",
      "{'name': 'Amitava', 'job': 'Developer', 'salary': 65000, 'location': 'Pune', 'qualification': 'ME'} 5 <class 'dict'> 2545115015488\n"
     ]
    }
   ],
   "source": [
    "# function with variable number of arguments\n",
    "def funct8(**kwarg):   # **kwarg means forcefully defining kwarg as a dictionary type key-word argument\n",
    "    print (kwarg, len(kwarg), type(kwarg), id(kwarg))\n",
    "    \n",
    "funct8(name = \"Amitava\", job = \"Developer\", salary = 65000, location = \"Pune\")\n",
    "funct8(name = \"Amitava\", job = \"Developer\", salary = 65000, location = \"Pune\", qualification = \"ME\")"
   ]
  },
  {
   "cell_type": "code",
   "execution_count": 36,
   "id": "b25f05ea-71eb-4ccd-8d71-6f05b552e4c4",
   "metadata": {},
   "outputs": [
    {
     "name": "stdout",
     "output_type": "stream",
     "text": [
      "('Amitava', 'Developer', 65000) 3 <class 'tuple'> 2545115382976\n",
      "{'location': 'Pune', 'qualification': 'Masters', 'hobby': 'drawing'} 3 <class 'dict'> 2545115365824\n",
      "\n",
      "('Amitava', 'Developer', 65000) 3 <class 'tuple'> 2545115385216\n",
      "{} 0 <class 'dict'> 2545115366272\n",
      "\n",
      "() 0 <class 'tuple'> 2544992075888\n",
      "{'location': 'Pune', 'qualification': 'Masters', 'hobby': 'drawing'} 3 <class 'dict'> 2545078176832\n",
      "\n",
      "<class 'function'>\n"
     ]
    }
   ],
   "source": [
    "# function with variable number of arguments\n",
    "def funct9(*arg, **kwarg):\n",
    "    print (arg, len(arg), type(arg), id(arg))\n",
    "    print (kwarg, len(kwarg), type(kwarg), id(kwarg))\n",
    "    \n",
    "funct9(\"Amitava\", \"Developer\", 65000, location = \"Pune\", qualification = \"Masters\", hobby='drawing')\n",
    "print()\n",
    "funct9(\"Amitava\", \"Developer\", 65000)\n",
    "print()\n",
    "funct9(location = \"Pune\", qualification = \"Masters\", hobby = 'drawing')\n",
    "print()\n",
    "print (type(funct9))"
   ]
  },
  {
   "cell_type": "code",
   "execution_count": 34,
   "id": "4b5bbb5d-5c24-4bca-a6a2-3e8d91f003ab",
   "metadata": {},
   "outputs": [
    {
     "name": "stdout",
     "output_type": "stream",
     "text": [
      "Executing for i = 1 and fact = 1...\n",
      "Executing for i = 2 and fact = 2...\n",
      "Executing for i = 3 and fact = 6...\n",
      "Executing for i = 4 and fact = 24...\n",
      "Executing for i = 5 and fact = 120...\n",
      "So factorial of 5 is 120...\n"
     ]
    }
   ],
   "source": [
    "# non-recursive factorial calculating function\n",
    "# 5! = 1 * 2 * 3 * 4 * 5 = 5 * 4 * 3 * 2 * 1 = 120\n",
    "# 0! = 1! = 1\n",
    "def factorial_nr(num):\n",
    "    if (num == 0 or num == 1): return 1\n",
    "    fact = 1\n",
    "    for i in range(1, num + 1):  # iteration\n",
    "        fact *= i\n",
    "        print (f\"Executing for i = {i} and fact = {fact}...\")\n",
    "    return fact\n",
    "\n",
    "n = 5\n",
    "result = factorial_nr(n)\n",
    "print (f\"So factorial of {n} is {result}...\")"
   ]
  },
  {
   "cell_type": "code",
   "execution_count": 31,
   "id": "a73cf71c-19bc-4a28-8c40-30d176168458",
   "metadata": {},
   "outputs": [
    {
     "name": "stdout",
     "output_type": "stream",
     "text": [
      "So factorial of 5 is 120...\n"
     ]
    }
   ],
   "source": [
    "# recursive factorial calculating function\n",
    "# 5! = 1 * 2 * 3 * 4 * 5 = 5 * 4 * 3 * 2 * 1 = 120 = 5 * 4!\n",
    "# n! = n * (n - 1)!\n",
    "def factorial_r(num):\n",
    "    if (num == 0 or num == 1): return 1  # base case: for certain input values outputs are pre-known to us,\n",
    "                                         # and here the recursion will terminate\n",
    "    return num * factorial_r(num - 1)    # reursive case: the function will call itself\n",
    "\n",
    "n = 5\n",
    "result = factorial_r(n)\n",
    "print (f\"So factorial of {n} is {result}...\")"
   ]
  },
  {
   "cell_type": "code",
   "execution_count": null,
   "id": "9aaf6942-bcdc-4bca-9751-fcd807dd84cf",
   "metadata": {},
   "outputs": [],
   "source": [
    "5! = 5 * 4!\n",
    "         4 * 3!\n",
    "             3 * 2!\n",
    "                 2 * 1!\n",
    "                     1\n",
    "                 2\n",
    "             6\n",
    "         24\n",
    "     120 (result)"
   ]
  },
  {
   "cell_type": "markdown",
   "id": "996474f1-f32a-4d95-a363-a4c76938a355",
   "metadata": {},
   "source": [
    "#### Lambda Function\n",
    "> In Python programming, a lambda function is a small anonymous function that can have any number of arguments, but can only have one expression. The expression is evaluated and returned as the function result. Lambda functions are commonly used in combination with higher-order functions such as map(), filter(), and reduce().\n",
    "\n",
    "Some of the properties of lambda functions in Python programming include:\n",
    "* **Anonymous:** Lambda functions are anonymous, meaning they do not have a name like regular functions. They are defined using the keyword \"lambda\" followed by the arguments and the expression.\n",
    "* **Single Expression:** A lambda function can only contain a single expression that is evaluated and returned as the function result. This means that it cannot contain multiple statements or control flow structures.\n",
    "* **Concise:** Lambda functions are concise and can be defined in a single line of code. This makes them useful for defining simple functions on-the-fly.\n",
    "* **Immutable:** Lambda functions are immutable, meaning they cannot be modified once defined. This means that you cannot change the behavior of a lambda function after it has been defined.\n",
    "* **Higher-order Functions:** Lambda functions are often used in combination with higher-order functions such as map(), filter(), and reduce(). These functions take other functions as arguments and return new functions as results.\n",
    "* **Memory-efficient:** Lambda functions are memory-efficient since they are defined on-the-fly and do not require a separate function definition. This can be useful when working with large data sets or when memory usage is a concern."
   ]
  },
  {
   "cell_type": "code",
   "execution_count": 37,
   "id": "159a3718-342c-4397-bc76-275749868453",
   "metadata": {},
   "outputs": [
    {
     "name": "stdout",
     "output_type": "stream",
     "text": [
      "25\n",
      "<function <lambda> at 0x0000025094AA72E0> <class 'function'> 2545114837728\n",
      "36\n"
     ]
    }
   ],
   "source": [
    "# lambda function\n",
    "my_square = lambda num: num * num\n",
    "\n",
    "print (my_square(5))\n",
    "print (my_square, type(my_square), id(my_square))\n",
    "result = my_square(6)\n",
    "print (result)"
   ]
  },
  {
   "cell_type": "code",
   "execution_count": 38,
   "id": "a417741b-298b-4fdc-b800-d4611b73eb65",
   "metadata": {},
   "outputs": [
    {
     "name": "stdout",
     "output_type": "stream",
     "text": [
      "900\n",
      "<function <lambda> at 0x0000025094B70280> <class 'function'> 2545115660928\n",
      "800\n"
     ]
    }
   ],
   "source": [
    "my_addition = lambda num1, num2: num1 + num2\n",
    "\n",
    "print (my_addition(500, 400))\n",
    "print (my_addition, type(my_addition), id(my_addition))\n",
    "result = my_addition(300, 500)\n",
    "print (result)"
   ]
  },
  {
   "cell_type": "markdown",
   "id": "2d9e9c71-913e-4e45-8deb-4e63059942e5",
   "metadata": {},
   "source": [
    "## Importing Modules"
   ]
  },
  {
   "cell_type": "code",
   "execution_count": 39,
   "id": "b7997ac8-0956-463c-a0e7-b736a78ae206",
   "metadata": {},
   "outputs": [],
   "source": [
    "# importing the required module\n",
    "import math"
   ]
  },
  {
   "cell_type": "code",
   "execution_count": 43,
   "id": "0452e0fe-32d3-47ec-b886-f91e54fbdd5c",
   "metadata": {},
   "outputs": [
    {
     "name": "stdout",
     "output_type": "stream",
     "text": [
      "0.0 1.0 0.0\n",
      "0.0 1.5707963267948966 0.0\n",
      "0.0 1.0 0.0\n"
     ]
    }
   ],
   "source": [
    "print (math.sin(0), math.cos(0), math.tan(0))\n",
    "print (math.asin(0), math.acos(0), math.atan(0))\n",
    "print (math.sinh(0), math.cosh(0), math.tanh(0))"
   ]
  },
  {
   "cell_type": "code",
   "execution_count": 53,
   "id": "9e449862-3983-4836-958e-478a8e45adb6",
   "metadata": {},
   "outputs": [
    {
     "name": "stdout",
     "output_type": "stream",
     "text": [
      "2.302585092994046 2.302585092994046\n",
      "2.9999999999999996 3.0\n",
      "10.0 10.0\n"
     ]
    }
   ],
   "source": [
    "print (math.log(10), math.log(10, math.e))\n",
    "print (math.log(1000, 10), math.log10(1000))\n",
    "print (math.log(1024, 2), math.log2(1024))"
   ]
  },
  {
   "cell_type": "code",
   "execution_count": 48,
   "id": "05e7093a-c1d9-41da-b9f8-77e1e6c72245",
   "metadata": {},
   "outputs": [
    {
     "name": "stdout",
     "output_type": "stream",
     "text": [
      "2.718281828459045 3.141592653589793 6.283185307179586\n"
     ]
    }
   ],
   "source": [
    "print (math.e, math.pi, math.tau)"
   ]
  },
  {
   "cell_type": "code",
   "execution_count": 57,
   "id": "6e292509-3b16-4026-ba83-f8be3473f20a",
   "metadata": {},
   "outputs": [
    {
     "name": "stdout",
     "output_type": "stream",
     "text": [
      "1000000.0 1000000 1000000.0\n",
      "120 720\n"
     ]
    }
   ],
   "source": [
    "print (math.pow(100, 3), 100 ** 3, 100.0 ** 3)\n",
    "print (math.factorial(5), math.factorial(6))"
   ]
  },
  {
   "cell_type": "code",
   "execution_count": 63,
   "id": "dc61025f-69d7-404b-b73b-f7061a88befe",
   "metadata": {},
   "outputs": [
    {
     "name": "stdout",
     "output_type": "stream",
     "text": [
      "10.5 10.5\n",
      "20 200\n",
      "10\n"
     ]
    }
   ],
   "source": [
    "print (abs(-10.5), abs(10.5))\n",
    "print (math.gcd(100, 40), math.lcm(100, 40))\n",
    "print (math.gcd(100, 40, 50, 70))"
   ]
  },
  {
   "cell_type": "code",
   "execution_count": 61,
   "id": "70813820-20c7-4f6e-a3fd-f49ebb8019dd",
   "metadata": {},
   "outputs": [
    {
     "name": "stdout",
     "output_type": "stream",
     "text": [
      "Help on built-in function gcd in module math:\n",
      "\n",
      "gcd(*integers)\n",
      "    Greatest Common Divisor.\n",
      "\n"
     ]
    }
   ],
   "source": [
    "help (math.gcd)"
   ]
  },
  {
   "cell_type": "code",
   "execution_count": 64,
   "id": "99c26be7-59ee-4448-a46d-5ff9f2c6c997",
   "metadata": {},
   "outputs": [
    {
     "name": "stdout",
     "output_type": "stream",
     "text": [
      "Help on built-in module math:\n",
      "\n",
      "NAME\n",
      "    math\n",
      "\n",
      "DESCRIPTION\n",
      "    This module provides access to the mathematical functions\n",
      "    defined by the C standard.\n",
      "\n",
      "FUNCTIONS\n",
      "    acos(x, /)\n",
      "        Return the arc cosine (measured in radians) of x.\n",
      "        \n",
      "        The result is between 0 and pi.\n",
      "    \n",
      "    acosh(x, /)\n",
      "        Return the inverse hyperbolic cosine of x.\n",
      "    \n",
      "    asin(x, /)\n",
      "        Return the arc sine (measured in radians) of x.\n",
      "        \n",
      "        The result is between -pi/2 and pi/2.\n",
      "    \n",
      "    asinh(x, /)\n",
      "        Return the inverse hyperbolic sine of x.\n",
      "    \n",
      "    atan(x, /)\n",
      "        Return the arc tangent (measured in radians) of x.\n",
      "        \n",
      "        The result is between -pi/2 and pi/2.\n",
      "    \n",
      "    atan2(y, x, /)\n",
      "        Return the arc tangent (measured in radians) of y/x.\n",
      "        \n",
      "        Unlike atan(y/x), the signs of both x and y are considered.\n",
      "    \n",
      "    atanh(x, /)\n",
      "        Return the inverse hyperbolic tangent of x.\n",
      "    \n",
      "    ceil(x, /)\n",
      "        Return the ceiling of x as an Integral.\n",
      "        \n",
      "        This is the smallest integer >= x.\n",
      "    \n",
      "    comb(n, k, /)\n",
      "        Number of ways to choose k items from n items without repetition and without order.\n",
      "        \n",
      "        Evaluates to n! / (k! * (n - k)!) when k <= n and evaluates\n",
      "        to zero when k > n.\n",
      "        \n",
      "        Also called the binomial coefficient because it is equivalent\n",
      "        to the coefficient of k-th term in polynomial expansion of the\n",
      "        expression (1 + x)**n.\n",
      "        \n",
      "        Raises TypeError if either of the arguments are not integers.\n",
      "        Raises ValueError if either of the arguments are negative.\n",
      "    \n",
      "    copysign(x, y, /)\n",
      "        Return a float with the magnitude (absolute value) of x but the sign of y.\n",
      "        \n",
      "        On platforms that support signed zeros, copysign(1.0, -0.0)\n",
      "        returns -1.0.\n",
      "    \n",
      "    cos(x, /)\n",
      "        Return the cosine of x (measured in radians).\n",
      "    \n",
      "    cosh(x, /)\n",
      "        Return the hyperbolic cosine of x.\n",
      "    \n",
      "    degrees(x, /)\n",
      "        Convert angle x from radians to degrees.\n",
      "    \n",
      "    dist(p, q, /)\n",
      "        Return the Euclidean distance between two points p and q.\n",
      "        \n",
      "        The points should be specified as sequences (or iterables) of\n",
      "        coordinates.  Both inputs must have the same dimension.\n",
      "        \n",
      "        Roughly equivalent to:\n",
      "            sqrt(sum((px - qx) ** 2.0 for px, qx in zip(p, q)))\n",
      "    \n",
      "    erf(x, /)\n",
      "        Error function at x.\n",
      "    \n",
      "    erfc(x, /)\n",
      "        Complementary error function at x.\n",
      "    \n",
      "    exp(x, /)\n",
      "        Return e raised to the power of x.\n",
      "    \n",
      "    expm1(x, /)\n",
      "        Return exp(x)-1.\n",
      "        \n",
      "        This function avoids the loss of precision involved in the direct evaluation of exp(x)-1 for small x.\n",
      "    \n",
      "    fabs(x, /)\n",
      "        Return the absolute value of the float x.\n",
      "    \n",
      "    factorial(x, /)\n",
      "        Find x!.\n",
      "        \n",
      "        Raise a ValueError if x is negative or non-integral.\n",
      "    \n",
      "    floor(x, /)\n",
      "        Return the floor of x as an Integral.\n",
      "        \n",
      "        This is the largest integer <= x.\n",
      "    \n",
      "    fmod(x, y, /)\n",
      "        Return fmod(x, y), according to platform C.\n",
      "        \n",
      "        x % y may differ.\n",
      "    \n",
      "    frexp(x, /)\n",
      "        Return the mantissa and exponent of x, as pair (m, e).\n",
      "        \n",
      "        m is a float and e is an int, such that x = m * 2.**e.\n",
      "        If x is 0, m and e are both 0.  Else 0.5 <= abs(m) < 1.0.\n",
      "    \n",
      "    fsum(seq, /)\n",
      "        Return an accurate floating point sum of values in the iterable seq.\n",
      "        \n",
      "        Assumes IEEE-754 floating point arithmetic.\n",
      "    \n",
      "    gamma(x, /)\n",
      "        Gamma function at x.\n",
      "    \n",
      "    gcd(*integers)\n",
      "        Greatest Common Divisor.\n",
      "    \n",
      "    hypot(...)\n",
      "        hypot(*coordinates) -> value\n",
      "        \n",
      "        Multidimensional Euclidean distance from the origin to a point.\n",
      "        \n",
      "        Roughly equivalent to:\n",
      "            sqrt(sum(x**2 for x in coordinates))\n",
      "        \n",
      "        For a two dimensional point (x, y), gives the hypotenuse\n",
      "        using the Pythagorean theorem:  sqrt(x*x + y*y).\n",
      "        \n",
      "        For example, the hypotenuse of a 3/4/5 right triangle is:\n",
      "        \n",
      "            >>> hypot(3.0, 4.0)\n",
      "            5.0\n",
      "    \n",
      "    isclose(a, b, *, rel_tol=1e-09, abs_tol=0.0)\n",
      "        Determine whether two floating point numbers are close in value.\n",
      "        \n",
      "          rel_tol\n",
      "            maximum difference for being considered \"close\", relative to the\n",
      "            magnitude of the input values\n",
      "          abs_tol\n",
      "            maximum difference for being considered \"close\", regardless of the\n",
      "            magnitude of the input values\n",
      "        \n",
      "        Return True if a is close in value to b, and False otherwise.\n",
      "        \n",
      "        For the values to be considered close, the difference between them\n",
      "        must be smaller than at least one of the tolerances.\n",
      "        \n",
      "        -inf, inf and NaN behave similarly to the IEEE 754 Standard.  That\n",
      "        is, NaN is not close to anything, even itself.  inf and -inf are\n",
      "        only close to themselves.\n",
      "    \n",
      "    isfinite(x, /)\n",
      "        Return True if x is neither an infinity nor a NaN, and False otherwise.\n",
      "    \n",
      "    isinf(x, /)\n",
      "        Return True if x is a positive or negative infinity, and False otherwise.\n",
      "    \n",
      "    isnan(x, /)\n",
      "        Return True if x is a NaN (not a number), and False otherwise.\n",
      "    \n",
      "    isqrt(n, /)\n",
      "        Return the integer part of the square root of the input.\n",
      "    \n",
      "    lcm(*integers)\n",
      "        Least Common Multiple.\n",
      "    \n",
      "    ldexp(x, i, /)\n",
      "        Return x * (2**i).\n",
      "        \n",
      "        This is essentially the inverse of frexp().\n",
      "    \n",
      "    lgamma(x, /)\n",
      "        Natural logarithm of absolute value of Gamma function at x.\n",
      "    \n",
      "    log(...)\n",
      "        log(x, [base=math.e])\n",
      "        Return the logarithm of x to the given base.\n",
      "        \n",
      "        If the base not specified, returns the natural logarithm (base e) of x.\n",
      "    \n",
      "    log10(x, /)\n",
      "        Return the base 10 logarithm of x.\n",
      "    \n",
      "    log1p(x, /)\n",
      "        Return the natural logarithm of 1+x (base e).\n",
      "        \n",
      "        The result is computed in a way which is accurate for x near zero.\n",
      "    \n",
      "    log2(x, /)\n",
      "        Return the base 2 logarithm of x.\n",
      "    \n",
      "    modf(x, /)\n",
      "        Return the fractional and integer parts of x.\n",
      "        \n",
      "        Both results carry the sign of x and are floats.\n",
      "    \n",
      "    nextafter(x, y, /)\n",
      "        Return the next floating-point value after x towards y.\n",
      "    \n",
      "    perm(n, k=None, /)\n",
      "        Number of ways to choose k items from n items without repetition and with order.\n",
      "        \n",
      "        Evaluates to n! / (n - k)! when k <= n and evaluates\n",
      "        to zero when k > n.\n",
      "        \n",
      "        If k is not specified or is None, then k defaults to n\n",
      "        and the function returns n!.\n",
      "        \n",
      "        Raises TypeError if either of the arguments are not integers.\n",
      "        Raises ValueError if either of the arguments are negative.\n",
      "    \n",
      "    pow(x, y, /)\n",
      "        Return x**y (x to the power of y).\n",
      "    \n",
      "    prod(iterable, /, *, start=1)\n",
      "        Calculate the product of all the elements in the input iterable.\n",
      "        \n",
      "        The default start value for the product is 1.\n",
      "        \n",
      "        When the iterable is empty, return the start value.  This function is\n",
      "        intended specifically for use with numeric values and may reject\n",
      "        non-numeric types.\n",
      "    \n",
      "    radians(x, /)\n",
      "        Convert angle x from degrees to radians.\n",
      "    \n",
      "    remainder(x, y, /)\n",
      "        Difference between x and the closest integer multiple of y.\n",
      "        \n",
      "        Return x - n*y where n*y is the closest integer multiple of y.\n",
      "        In the case where x is exactly halfway between two multiples of\n",
      "        y, the nearest even value of n is used. The result is always exact.\n",
      "    \n",
      "    sin(x, /)\n",
      "        Return the sine of x (measured in radians).\n",
      "    \n",
      "    sinh(x, /)\n",
      "        Return the hyperbolic sine of x.\n",
      "    \n",
      "    sqrt(x, /)\n",
      "        Return the square root of x.\n",
      "    \n",
      "    tan(x, /)\n",
      "        Return the tangent of x (measured in radians).\n",
      "    \n",
      "    tanh(x, /)\n",
      "        Return the hyperbolic tangent of x.\n",
      "    \n",
      "    trunc(x, /)\n",
      "        Truncates the Real x to the nearest Integral toward 0.\n",
      "        \n",
      "        Uses the __trunc__ magic method.\n",
      "    \n",
      "    ulp(x, /)\n",
      "        Return the value of the least significant bit of the float x.\n",
      "\n",
      "DATA\n",
      "    e = 2.718281828459045\n",
      "    inf = inf\n",
      "    nan = nan\n",
      "    pi = 3.141592653589793\n",
      "    tau = 6.283185307179586\n",
      "\n",
      "FILE\n",
      "    (built-in)\n",
      "\n",
      "\n"
     ]
    }
   ],
   "source": [
    "help (math)"
   ]
  },
  {
   "cell_type": "markdown",
   "id": "664e0df6-fdcb-402c-a861-06492eef2b2b",
   "metadata": {},
   "source": [
    "# **Day-4**"
   ]
  },
  {
   "cell_type": "markdown",
   "id": "9737e167-fff7-4892-bfb5-3c348cbd629e",
   "metadata": {},
   "source": [
    "## String Processing"
   ]
  },
  {
   "cell_type": "code",
   "execution_count": null,
   "id": "1589f0dc-4a18-4a81-b790-3324dfc84950",
   "metadata": {},
   "outputs": [],
   "source": [
    "index left to right ->  0   1   2   3   4   5   6   7   8   9\n",
    "               mystr =  u   n   i   v   e   r   s   i   t   y\n",
    "index right to left ->-10  -9  -8  -7  -6  -5  -4  -3  -2  -1 "
   ]
  },
  {
   "cell_type": "code",
   "execution_count": 66,
   "id": "cc93dc10-a119-444a-8f46-d7d1ada71475",
   "metadata": {},
   "outputs": [
    {
     "name": "stdout",
     "output_type": "stream",
     "text": [
      "university 10 <class 'str'> 2545115242096\n"
     ]
    }
   ],
   "source": [
    "mystr = \"university\"\n",
    "print (mystr, len(mystr), type(mystr), id(mystr))"
   ]
  },
  {
   "cell_type": "code",
   "execution_count": 67,
   "id": "904384cb-189f-45cd-9b81-85d91e2f4b23",
   "metadata": {},
   "outputs": [
    {
     "name": "stdout",
     "output_type": "stream",
     "text": [
      "v v i i r r\n"
     ]
    }
   ],
   "source": [
    "mystr = \"university\"\n",
    "print (mystr[3], mystr[-7], mystr[7], mystr[-3], mystr[5], mystr[-5]) # indexing"
   ]
  },
  {
   "cell_type": "code",
   "execution_count": 69,
   "id": "fc42b613-ca0f-4c76-8223-152cca4e26a7",
   "metadata": {},
   "outputs": [
    {
     "name": "stdout",
     "output_type": "stream",
     "text": [
      "niversi niversi niversi niversi ytisrevinu\n"
     ]
    }
   ],
   "source": [
    "mystr = \"university\"\n",
    "print (mystr[1:8], mystr[-9:-2], mystr[1:-2], mystr[-9:8], mystr[::-1]) # slicing or sub-string retrieval"
   ]
  },
  {
   "cell_type": "code",
   "execution_count": 70,
   "id": "0469181d-c977-445d-9478-d754c1351946",
   "metadata": {},
   "outputs": [
    {
     "name": "stdout",
     "output_type": "stream",
     "text": [
      "caLCuTTa unIVerSitY 19 <class 'str'> 2545115111280\n",
      "CALCUTTA UNIVERSITY\n",
      "calcutta university\n",
      "Calcutta University\n",
      "Calcutta university\n",
      "CAlcUttA UNivERsITy\n",
      "          caLCuTTa unIVerSitY           \n",
      "               CALCUTTA UNIVERSITY                \n"
     ]
    }
   ],
   "source": [
    "mystr = \"caLCuTTa unIVerSitY\"\n",
    "print (mystr, len(mystr), type(mystr), id(mystr))\n",
    "print (mystr.upper())\n",
    "print (mystr.lower())\n",
    "print (mystr.title())\n",
    "print (mystr.capitalize())\n",
    "print (mystr.swapcase())\n",
    "print (mystr.center(40))\n",
    "print (mystr.upper().center(50))"
   ]
  },
  {
   "cell_type": "code",
   "execution_count": 71,
   "id": "85e44227-89e1-49ef-98ec-946cf90a129f",
   "metadata": {},
   "outputs": [
    {
     "name": "stdout",
     "output_type": "stream",
     "text": [
      "4 4 11 -1\n"
     ]
    }
   ],
   "source": [
    "mystr = \"charity begins at home\"\n",
    "print (mystr.find(\"ity\"), mystr.find(\"i\", 3), mystr.find(\"i\", 5), mystr.find(\"ins\", 11, 13))"
   ]
  },
  {
   "cell_type": "code",
   "execution_count": 72,
   "id": "60627da1-99e1-45b8-9b63-8492997be76a",
   "metadata": {},
   "outputs": [
    {
     "name": "stdout",
     "output_type": "stream",
     "text": [
      "4 4 11\n"
     ]
    },
    {
     "ename": "ValueError",
     "evalue": "substring not found",
     "output_type": "error",
     "traceback": [
      "\u001b[1;31m---------------------------------------------------------------------------\u001b[0m",
      "\u001b[1;31mValueError\u001b[0m                                Traceback (most recent call last)",
      "Cell \u001b[1;32mIn[72], line 3\u001b[0m\n\u001b[0;32m      1\u001b[0m mystr \u001b[38;5;241m=\u001b[39m \u001b[38;5;124m\"\u001b[39m\u001b[38;5;124mcharity begins at home\u001b[39m\u001b[38;5;124m\"\u001b[39m\n\u001b[0;32m      2\u001b[0m \u001b[38;5;28mprint\u001b[39m (mystr\u001b[38;5;241m.\u001b[39mindex(\u001b[38;5;124m\"\u001b[39m\u001b[38;5;124mity\u001b[39m\u001b[38;5;124m\"\u001b[39m), mystr\u001b[38;5;241m.\u001b[39mindex(\u001b[38;5;124m\"\u001b[39m\u001b[38;5;124mi\u001b[39m\u001b[38;5;124m\"\u001b[39m, \u001b[38;5;241m3\u001b[39m), mystr\u001b[38;5;241m.\u001b[39mindex(\u001b[38;5;124m\"\u001b[39m\u001b[38;5;124mi\u001b[39m\u001b[38;5;124m\"\u001b[39m, \u001b[38;5;241m5\u001b[39m))\n\u001b[1;32m----> 3\u001b[0m \u001b[38;5;28mprint\u001b[39m (\u001b[43mmystr\u001b[49m\u001b[38;5;241;43m.\u001b[39;49m\u001b[43mindex\u001b[49m\u001b[43m(\u001b[49m\u001b[38;5;124;43m\"\u001b[39;49m\u001b[38;5;124;43mins\u001b[39;49m\u001b[38;5;124;43m\"\u001b[39;49m\u001b[43m,\u001b[49m\u001b[43m \u001b[49m\u001b[38;5;241;43m11\u001b[39;49m\u001b[43m,\u001b[49m\u001b[43m \u001b[49m\u001b[38;5;241;43m13\u001b[39;49m\u001b[43m)\u001b[49m)\n",
      "\u001b[1;31mValueError\u001b[0m: substring not found"
     ]
    }
   ],
   "source": [
    "mystr = \"charity begins at home\"\n",
    "print (mystr.index(\"ity\"), mystr.index(\"i\", 3), mystr.index(\"i\", 5))\n",
    "print (mystr.index(\"ins\", 11, 13))"
   ]
  },
  {
   "cell_type": "code",
   "execution_count": 73,
   "id": "86327a75-b428-4cfc-99b8-3b4823a4ebbb",
   "metadata": {},
   "outputs": [
    {
     "name": "stdout",
     "output_type": "stream",
     "text": [
      "    calcutta    university      31 <class 'str'> 2545115337216\n",
      "calcutta    university 22\n",
      "calcutta    university      27\n",
      "    calcutta    university 26\n",
      "calcutta    university calcutta    university      27\n"
     ]
    }
   ],
   "source": [
    "mystr = \"    calcutta    university     \"\n",
    "print (mystr, len(mystr), type(mystr), id(mystr))\n",
    "print (mystr.strip(), len(mystr.strip()))\n",
    "print (mystr.lstrip(), len(mystr.lstrip()))\n",
    "print (mystr.rstrip(), len(mystr.rstrip()))\n",
    "print (mystr.strip(\" \"), mystr.lstrip(\" \"), len(mystr.lstrip(\" \")))"
   ]
  },
  {
   "cell_type": "code",
   "execution_count": 76,
   "id": "fd928480-625d-4b1e-8d57-80352592456c",
   "metadata": {},
   "outputs": [
    {
     "name": "stdout",
     "output_type": "stream",
     "text": [
      "calcutta#@#@university 22\n",
      "calcutta#@#@university#@@@# 27\n",
      "##@@calcutta#@#@university 26\n"
     ]
    }
   ],
   "source": [
    "mystr = \"##@@calcutta#@#@university#@@@#\"\n",
    "print (mystr.strip(\"@#\"), len(mystr.strip(\"@#\")))\n",
    "print (mystr.lstrip(\"@#\"), len(mystr.lstrip(\"@#\")))\n",
    "print (mystr.rstrip(\"@#\"), len(mystr.rstrip(\"@#\")))"
   ]
  },
  {
   "cell_type": "code",
   "execution_count": 77,
   "id": "dba1c4a2-893b-494a-a4bb-144a5fd0fa2a",
   "metadata": {},
   "outputs": [
    {
     "name": "stdout",
     "output_type": "stream",
     "text": [
      "True False True True\n",
      "True False True\n"
     ]
    }
   ],
   "source": [
    "mystr = \"charity begins at home\"\n",
    "print (mystr.startswith(\"cha\"), mystr.startswith(\"beg\"), mystr.startswith(\"beg\", 8),\n",
    "       mystr.startswith(\"beg\", 8, 20))\n",
    "print (mystr.endswith(\"ome\"), mystr.endswith(\"gins\"), mystr.endswith(\"gins\", 0, 14))"
   ]
  },
  {
   "cell_type": "code",
   "execution_count": 78,
   "id": "dc272837-d559-4f51-9707-ac66e9a7ca29",
   "metadata": {},
   "outputs": [
    {
     "name": "stdout",
     "output_type": "stream",
     "text": [
      "y\n",
      "e\n",
      "l\n",
      "l\n",
      "o\n",
      "w\n"
     ]
    }
   ],
   "source": [
    "mystr = \"yellow\"    # Reading character by character from a string\n",
    "for ch in mystr:\n",
    "    print (ch)"
   ]
  },
  {
   "cell_type": "code",
   "execution_count": 79,
   "id": "f9a80b37-f7a7-4770-a863-3a64358380e0",
   "metadata": {},
   "outputs": [
    {
     "name": "stdout",
     "output_type": "stream",
     "text": [
      "y\n",
      "e\n",
      "l\n",
      "l\n",
      "o\n",
      "w\n"
     ]
    }
   ],
   "source": [
    "mystr = \"yellow\"    # Reading character by character from a string\n",
    "for i in range(len(mystr)):\n",
    "    print (mystr[i])"
   ]
  },
  {
   "cell_type": "code",
   "execution_count": 82,
   "id": "232a4e66-022a-4709-8b80-6af6d2e786f7",
   "metadata": {},
   "outputs": [
    {
     "name": "stdout",
     "output_type": "stream",
     "text": [
      "charity begins at home 22 <class 'str'> 2545115116800\n",
      "['charity', 'begins', 'at', 'home']\n",
      "['charity', 'begins', 'at', 'home']\n",
      "['char', 'ty beg', 'ns at home']\n"
     ]
    }
   ],
   "source": [
    "mystr = \"charity begins at home\"\n",
    "print (mystr, len(mystr), type(mystr), id(mystr))\n",
    "list1 = mystr.split()\n",
    "print (list1)\n",
    "list1 = mystr.split(\" \")\n",
    "print (list1)\n",
    "list1 = mystr.split(\"i\")\n",
    "print (list1)"
   ]
  },
  {
   "cell_type": "code",
   "execution_count": 81,
   "id": "f896cadb-9bce-41c0-9bfa-6ad26a6049af",
   "metadata": {},
   "outputs": [
    {
     "name": "stdin",
     "output_type": "stream",
     "text": [
      "Enter your all numbers:  11 22 33 44 55\n"
     ]
    },
    {
     "name": "stdout",
     "output_type": "stream",
     "text": [
      "[11, 22, 33, 44, 55]\n"
     ]
    }
   ],
   "source": [
    "list_num = [int(x) for x in input(\"Enter your all numbers: \").split()]\n",
    "print (list_num)"
   ]
  },
  {
   "cell_type": "code",
   "execution_count": 83,
   "id": "3ae5e25c-0ec9-4fb1-a500-fc7a708b77c0",
   "metadata": {},
   "outputs": [
    {
     "name": "stdout",
     "output_type": "stream",
     "text": [
      "['charity', 'begins', 'at', 'home'] 4 <class 'list'> 2545072833088\n",
      "charity begins at home\n",
      "charity - begins - at - home\n",
      "charity, begins, at, home\n"
     ]
    }
   ],
   "source": [
    "list1 = ['charity', 'begins', 'at', 'home']\n",
    "print (list1, len(list1), type(list1), id(list1))\n",
    "mystr = \" \".join(list1)\n",
    "print (mystr)\n",
    "mystr = \" - \".join(list1)\n",
    "print (mystr)\n",
    "mystr = \", \".join(list1)\n",
    "print (mystr)"
   ]
  },
  {
   "cell_type": "code",
   "execution_count": 87,
   "id": "44845b33-28ec-4aae-bc8c-7de283c5e10a",
   "metadata": {},
   "outputs": [
    {
     "name": "stdout",
     "output_type": "stream",
     "text": [
      "True True False False False\n",
      "False True True True True\n",
      "False True False False False\n",
      "False False False False False\n"
     ]
    }
   ],
   "source": [
    "mystr = \"university\"\n",
    "print (mystr.isalpha(), mystr.isalnum(), mystr.isnumeric(), mystr.isdigit(), mystr.isdecimal())\n",
    "mystr = \"1234\"\n",
    "print (mystr.isalpha(), mystr.isalnum(), mystr.isnumeric(), mystr.isdigit(), mystr.isdecimal())\n",
    "mystr = \"university1234\"\n",
    "print (mystr.isalpha(), mystr.isalnum(), mystr.isnumeric(), mystr.isdigit(), mystr.isdecimal())\n",
    "mystr = \"university@1234\"\n",
    "print (mystr.isalpha(), mystr.isalnum(), mystr.isnumeric(), mystr.isdigit(), mystr.isdecimal())"
   ]
  },
  {
   "cell_type": "code",
   "execution_count": 88,
   "id": "7cc8a111-4609-43a8-87ac-e8727cc81948",
   "metadata": {},
   "outputs": [
    {
     "name": "stdout",
     "output_type": "stream",
     "text": [
      "2 1 0\n"
     ]
    }
   ],
   "source": [
    "mystr = \"university\"\n",
    "print (mystr.count(\"i\"), mystr.count(\"v\"), mystr.count(\"I\"))"
   ]
  },
  {
   "cell_type": "code",
   "execution_count": 89,
   "id": "2c0d6aaa-a8ff-4719-a837-1e3af75feff3",
   "metadata": {},
   "outputs": [
    {
     "name": "stdout",
     "output_type": "stream",
     "text": [
      "unxversxty\n",
      "unxversxty\n"
     ]
    }
   ],
   "source": [
    "mystr = \"university\"\n",
    "print (mystr.replace(\"i\", \"x\"))\n",
    "mystr = mystr.replace(\"i\", \"x\")\n",
    "print (mystr)"
   ]
  },
  {
   "cell_type": "code",
   "execution_count": 90,
   "id": "ba27494b-3bf0-4804-9ee5-1ef13ffe3715",
   "metadata": {},
   "outputs": [
    {
     "name": "stdout",
     "output_type": "stream",
     "text": [
      "mississippi <class 'str'>\n",
      "['m', 'i', 's', 's', 'i', 's', 's', 'i', 'p', 'p', 'i']\n",
      "('m', 'i', 's', 's', 'i', 's', 's', 'i', 'p', 'p', 'i')\n",
      "{'i', 'm', 'p', 's'}\n",
      "frozenset({'i', 'm', 'p', 's'})\n"
     ]
    }
   ],
   "source": [
    "mystr = \"mississippi\"\n",
    "print (mystr, type(mystr))\n",
    "print (list(mystr))\n",
    "print (tuple(mystr))\n",
    "print (set(mystr))\n",
    "print (frozenset(mystr))"
   ]
  },
  {
   "cell_type": "markdown",
   "id": "afe1d1ac-9593-45bb-9025-81887fbc71cb",
   "metadata": {},
   "source": [
    "## List Processing"
   ]
  },
  {
   "cell_type": "code",
   "execution_count": 91,
   "id": "0b13d8bc-2735-4c0a-8614-02f13fe7be76",
   "metadata": {},
   "outputs": [
    {
     "name": "stdout",
     "output_type": "stream",
     "text": [
      "[100, 400, 300, 200, 700] 5 <class 'list'> 2545115151424\n",
      "700 100\n",
      "1700 340.0\n"
     ]
    }
   ],
   "source": [
    "list1 = [100, 400, 300, 200, 700]\n",
    "print (list1, len(list1), type(list1), id(list1))\n",
    "print (max(list1), min(list1))\n",
    "print (sum(list1), sum(list1) / len(list1))"
   ]
  },
  {
   "cell_type": "code",
   "execution_count": 92,
   "id": "7e441f74-1339-43ab-a6b0-a5913d092552",
   "metadata": {},
   "outputs": [
    {
     "name": "stdout",
     "output_type": "stream",
     "text": [
      "[100, 400, True, 300, 200, False, 700] 7 <class 'list'> 2545115135168\n",
      "700 False\n",
      "1701 243.0\n"
     ]
    }
   ],
   "source": [
    "list1 = [100, 400, True, 300, 200, False, 700]\n",
    "print (list1, len(list1), type(list1), id(list1))\n",
    "print (max(list1), min(list1))\n",
    "print (sum(list1), sum(list1) / len(list1))"
   ]
  },
  {
   "cell_type": "code",
   "execution_count": 93,
   "id": "1e4c29ec-189c-46b4-97e5-105893b7fa5d",
   "metadata": {},
   "outputs": [
    {
     "name": "stdout",
     "output_type": "stream",
     "text": [
      "['sunday', 'monday', 'friday', 'saturday', 'Tuesday'] 5 <class 'list'> 2545114786880\n",
      "sunday Tuesday\n"
     ]
    },
    {
     "ename": "TypeError",
     "evalue": "unsupported operand type(s) for +: 'int' and 'str'",
     "output_type": "error",
     "traceback": [
      "\u001b[1;31m---------------------------------------------------------------------------\u001b[0m",
      "\u001b[1;31mTypeError\u001b[0m                                 Traceback (most recent call last)",
      "Cell \u001b[1;32mIn[93], line 4\u001b[0m\n\u001b[0;32m      2\u001b[0m \u001b[38;5;28mprint\u001b[39m (list1, \u001b[38;5;28mlen\u001b[39m(list1), \u001b[38;5;28mtype\u001b[39m(list1), \u001b[38;5;28mid\u001b[39m(list1))\n\u001b[0;32m      3\u001b[0m \u001b[38;5;28mprint\u001b[39m (\u001b[38;5;28mmax\u001b[39m(list1), \u001b[38;5;28mmin\u001b[39m(list1))\n\u001b[1;32m----> 4\u001b[0m \u001b[38;5;28mprint\u001b[39m (\u001b[38;5;28;43msum\u001b[39;49m\u001b[43m(\u001b[49m\u001b[43mlist1\u001b[49m\u001b[43m)\u001b[49m, \u001b[38;5;28msum\u001b[39m(list1) \u001b[38;5;241m/\u001b[39m \u001b[38;5;28mlen\u001b[39m(list1))\n",
      "\u001b[1;31mTypeError\u001b[0m: unsupported operand type(s) for +: 'int' and 'str'"
     ]
    }
   ],
   "source": [
    "list1 = [\"sunday\", \"monday\", 'friday', 'saturday', 'Tuesday']\n",
    "print (list1, len(list1), type(list1), id(list1))\n",
    "print (max(list1), min(list1))\n",
    "print (sum(list1), sum(list1) / len(list1))"
   ]
  },
  {
   "cell_type": "code",
   "execution_count": 94,
   "id": "86841bb5-f458-4c79-938c-b064cad38032",
   "metadata": {},
   "outputs": [
    {
     "name": "stdout",
     "output_type": "stream",
     "text": [
      "[100, 400, True, 'Tuesday', 300, 'Wednesday', 200, False, 700] 9 <class 'list'> 2545116836608\n"
     ]
    },
    {
     "ename": "TypeError",
     "evalue": "'>' not supported between instances of 'str' and 'int'",
     "output_type": "error",
     "traceback": [
      "\u001b[1;31m---------------------------------------------------------------------------\u001b[0m",
      "\u001b[1;31mTypeError\u001b[0m                                 Traceback (most recent call last)",
      "Cell \u001b[1;32mIn[94], line 3\u001b[0m\n\u001b[0;32m      1\u001b[0m list1 \u001b[38;5;241m=\u001b[39m [\u001b[38;5;241m100\u001b[39m, \u001b[38;5;241m400\u001b[39m, \u001b[38;5;28;01mTrue\u001b[39;00m, \u001b[38;5;124m\"\u001b[39m\u001b[38;5;124mTuesday\u001b[39m\u001b[38;5;124m\"\u001b[39m, \u001b[38;5;241m300\u001b[39m, \u001b[38;5;124m\"\u001b[39m\u001b[38;5;124mWednesday\u001b[39m\u001b[38;5;124m\"\u001b[39m, \u001b[38;5;241m200\u001b[39m, \u001b[38;5;28;01mFalse\u001b[39;00m, \u001b[38;5;241m700\u001b[39m]\n\u001b[0;32m      2\u001b[0m \u001b[38;5;28mprint\u001b[39m (list1, \u001b[38;5;28mlen\u001b[39m(list1), \u001b[38;5;28mtype\u001b[39m(list1), \u001b[38;5;28mid\u001b[39m(list1))\n\u001b[1;32m----> 3\u001b[0m \u001b[38;5;28mprint\u001b[39m (\u001b[38;5;28;43mmax\u001b[39;49m\u001b[43m(\u001b[49m\u001b[43mlist1\u001b[49m\u001b[43m)\u001b[49m, \u001b[38;5;28mmin\u001b[39m(list1))\n\u001b[0;32m      4\u001b[0m \u001b[38;5;28mprint\u001b[39m (\u001b[38;5;28msum\u001b[39m(list1), \u001b[38;5;28msum\u001b[39m(list1) \u001b[38;5;241m/\u001b[39m \u001b[38;5;28mlen\u001b[39m(list1))\n",
      "\u001b[1;31mTypeError\u001b[0m: '>' not supported between instances of 'str' and 'int'"
     ]
    }
   ],
   "source": [
    "list1 = [100, 400, True, \"Tuesday\", 300, \"Wednesday\", 200, False, 700]\n",
    "print (list1, len(list1), type(list1), id(list1))\n",
    "print (max(list1), min(list1))\n",
    "print (sum(list1), sum(list1) / len(list1))"
   ]
  },
  {
   "cell_type": "code",
   "execution_count": 95,
   "id": "9c613204-c0f3-4229-9fb9-6fdad1be2d31",
   "metadata": {},
   "outputs": [
    {
     "name": "stdout",
     "output_type": "stream",
     "text": [
      "['Monday', 'Tuesday', 'Wednesday', 'Thursday', 'Friday'] 5 <class 'list'> 2545115226112\n",
      "Wednesday Wednesday Thursday Thursday\n",
      "nes nes\n"
     ]
    }
   ],
   "source": [
    "# Indexing and slicing\n",
    "# L to R ->  0         1          2            3           4\n",
    "list1 =    [\"Monday\", \"Tuesday\", \"Wednesday\", \"Thursday\", \"Friday\"]\n",
    "# R to L -> -5        -4         -3           -2          -1\n",
    "print (list1, len(list1), type(list1), id(list1))\n",
    "print (list1[2], list1[-3], list1[3], list1[-2])\n",
    "print (list1[2][3:6], list1[-3][-6:-3])"
   ]
  },
  {
   "cell_type": "code",
   "execution_count": 97,
   "id": "97ce4e91-41bb-47d7-925d-b55a5f73b973",
   "metadata": {},
   "outputs": [
    {
     "name": "stdout",
     "output_type": "stream",
     "text": [
      "['Monday', 'Tuesday', 'Wednesday', 'Thursday', 'Friday']\n",
      "['Mango', 'Pineapple', 'Guava', 'Lime']\n",
      "['Monday', 'Tuesday', 'Wednesday', 'Thursday', 'Friday', 'Mango', 'Pineapple', 'Guava', 'Lime']\n",
      "['Monday', 'Tuesday', 'Wednesday', 'Thursday', 'Friday', 'Mango', 'Pineapple', 'Guava', 'Lime']\n",
      "['Mango', 'Pineapple', 'Guava', 'Lime']\n"
     ]
    }
   ],
   "source": [
    "list1 = [\"Monday\", \"Tuesday\", \"Wednesday\", \"Thursday\", \"Friday\"]\n",
    "list2 = [\"Mango\", \"Pineapple\", \"Guava\", \"Lime\"]\n",
    "print (list1)\n",
    "print (list2)\n",
    "list3 = list1 + list2    # list concatenation\n",
    "print (list3)\n",
    "list1.extend(list2)      # list concatenation\n",
    "print (list1)\n",
    "print (list2)"
   ]
  },
  {
   "cell_type": "code",
   "execution_count": 98,
   "id": "8373a251-f97e-47b4-aa50-b0df85d4ce98",
   "metadata": {},
   "outputs": [
    {
     "name": "stdout",
     "output_type": "stream",
     "text": [
      "['Monday', 'Tuesday', 'Wednesday', 'Thursday', 'Friday']\n",
      "['Mango', 'Pineapple', 'Guava', 'Lime']\n",
      "[['Monday', 'Tuesday', 'Wednesday', 'Thursday', 'Friday'], ['Mango', 'Pineapple', 'Guava', 'Lime']]\n",
      "5 4\n",
      "['Pineapple', 'Guava'] ['Wednesday', 'Thursday'] nes\n"
     ]
    }
   ],
   "source": [
    "list1 = [\"Monday\", \"Tuesday\", \"Wednesday\", \"Thursday\", \"Friday\"]\n",
    "list2 = [\"Mango\", \"Pineapple\", \"Guava\", \"Lime\"]\n",
    "print (list1)\n",
    "print (list2)\n",
    "list3 = [list1, list2]      # list of lists\n",
    "print (list3)\n",
    "print (len(list3[0]), len(list3[1]))\n",
    "print (list3[1][1:3], list3[0][2:4], list3[0][2][3:6])"
   ]
  },
  {
   "cell_type": "code",
   "execution_count": 100,
   "id": "9677a915-a5b2-4a5a-aec6-ac9509245514",
   "metadata": {},
   "outputs": [
    {
     "name": "stdout",
     "output_type": "stream",
     "text": [
      "['Mango', 'Pineapple', 'Coconut', 'Banana', 'Lime']\n",
      "['Mango', 'Pineapple', 'Coconut', 'Banana', 'Lime', 'Guava']\n",
      "['Mango', 'Pineapple', 'Coconut', 'Banana', 'Lime', 'Guava', 'Lemon']\n",
      "['Mango', 'Pineapple', 'Coconut', 'Banana', 'Lime', 'Guava', 'Lemon', 'Mango']\n"
     ]
    }
   ],
   "source": [
    "# insert operation on list\n",
    "list1 = ['Mango', 'Pineapple', 'Coconut', 'Banana', 'Lime']\n",
    "print (list1)\n",
    "list1.append(\"Guava\")\n",
    "print (list1)\n",
    "list1.append(\"Lemon\")\n",
    "print (list1)\n",
    "list1.append(\"Mango\")\n",
    "print (list1)"
   ]
  },
  {
   "cell_type": "code",
   "execution_count": 101,
   "id": "2e57194d-f0c3-4508-ae5e-f1bcb12595f2",
   "metadata": {},
   "outputs": [
    {
     "name": "stdout",
     "output_type": "stream",
     "text": [
      "['Mango', 'Pineapple', 'Coconut', 'Banana', 'Lime']\n",
      "['Mango', 'Lemon', 'Pineapple', 'Coconut', 'Banana', 'Lime']\n",
      "['Mango', 'Lemon', 'Pineapple', 'Coconut', 'Coconut', 'Banana', 'Lime']\n",
      "['Mango', 'Lemon', 'Guava', 'Pineapple', 'Coconut', 'Coconut', 'Banana', 'Lime']\n"
     ]
    }
   ],
   "source": [
    "list1 = ['Mango', 'Pineapple', 'Coconut', 'Banana', 'Lime']\n",
    "print (list1)\n",
    "list1.insert(1, \"Lemon\")\n",
    "print (list1)\n",
    "list1.insert(3, \"Coconut\")\n",
    "print (list1)\n",
    "list1.insert(2, \"Guava\")\n",
    "print (list1)"
   ]
  },
  {
   "cell_type": "code",
   "execution_count": 102,
   "id": "b4b3cecf-dc25-45d9-a4b8-b9258838b672",
   "metadata": {},
   "outputs": [
    {
     "name": "stdout",
     "output_type": "stream",
     "text": [
      "['Mango', 'Pineapple', 'Coconut', 'Banana', 'Lime']\n",
      "['Himsagar', 'Pineapple', 'Coconut', 'Banana', 'Lime']\n"
     ]
    }
   ],
   "source": [
    "# update operation on list\n",
    "list1 = ['Mango', 'Pineapple', 'Coconut', 'Banana', 'Lime']\n",
    "print (list1)\n",
    "list1[0] = \"Himsagar\"\n",
    "print (list1)"
   ]
  },
  {
   "cell_type": "code",
   "execution_count": 106,
   "id": "8ea17f9b-c422-4839-989f-83863ccb3619",
   "metadata": {},
   "outputs": [
    {
     "name": "stdout",
     "output_type": "stream",
     "text": [
      "['Mango', 'Pineapple', 'Coconut', 'Banana', 'Lime']\n",
      "['Mango', 'Coconut', 'Banana', 'Lime']\n",
      "['Mango', 'Banana', 'Lime']\n"
     ]
    },
    {
     "ename": "ValueError",
     "evalue": "list.remove(x): x not in list",
     "output_type": "error",
     "traceback": [
      "\u001b[1;31m---------------------------------------------------------------------------\u001b[0m",
      "\u001b[1;31mValueError\u001b[0m                                Traceback (most recent call last)",
      "Cell \u001b[1;32mIn[106], line 8\u001b[0m\n\u001b[0;32m      6\u001b[0m list1\u001b[38;5;241m.\u001b[39mremove(\u001b[38;5;124m\"\u001b[39m\u001b[38;5;124mCoconut\u001b[39m\u001b[38;5;124m\"\u001b[39m)\n\u001b[0;32m      7\u001b[0m \u001b[38;5;28mprint\u001b[39m (list1)\n\u001b[1;32m----> 8\u001b[0m \u001b[43mlist1\u001b[49m\u001b[38;5;241;43m.\u001b[39;49m\u001b[43mremove\u001b[49m\u001b[43m(\u001b[49m\u001b[38;5;124;43m\"\u001b[39;49m\u001b[38;5;124;43mPineapple\u001b[39;49m\u001b[38;5;124;43m\"\u001b[39;49m\u001b[43m)\u001b[49m\n\u001b[0;32m      9\u001b[0m \u001b[38;5;28mprint\u001b[39m (list1)\n",
      "\u001b[1;31mValueError\u001b[0m: list.remove(x): x not in list"
     ]
    }
   ],
   "source": [
    "# deletion operation on list\n",
    "list1 = ['Mango', 'Pineapple', 'Coconut', 'Banana', 'Lime']\n",
    "print (list1)\n",
    "list1.remove(\"Pineapple\")\n",
    "print (list1)\n",
    "list1.remove(\"Coconut\")\n",
    "print (list1)\n",
    "list1.remove(\"Pineapple\")\n",
    "print (list1)"
   ]
  },
  {
   "cell_type": "code",
   "execution_count": 107,
   "id": "9dc8897f-2792-4153-9d45-a90b57ff28b7",
   "metadata": {},
   "outputs": [
    {
     "name": "stdout",
     "output_type": "stream",
     "text": [
      "['Mango', 'Pineapple', 'Coconut', 'Banana', 'Lime']\n",
      "Lime\n",
      "['Mango', 'Pineapple', 'Coconut', 'Banana']\n",
      "Banana\n",
      "['Mango', 'Pineapple', 'Coconut']\n",
      "Coconut\n",
      "['Mango', 'Pineapple']\n"
     ]
    }
   ],
   "source": [
    "list1 = ['Mango', 'Pineapple', 'Coconut', 'Banana', 'Lime']\n",
    "print (list1)\n",
    "print (list1.pop())\n",
    "print (list1)\n",
    "print (list1.pop())\n",
    "print (list1)\n",
    "print (list1.pop())\n",
    "print (list1)"
   ]
  },
  {
   "cell_type": "code",
   "execution_count": 108,
   "id": "dd2ae6f4-ce0c-460f-a14f-dea8f6d15067",
   "metadata": {},
   "outputs": [
    {
     "name": "stdout",
     "output_type": "stream",
     "text": [
      "['Mango', 'Pineapple', 'Coconut', 'Banana', 'Lime']\n",
      "Coconut\n",
      "['Mango', 'Pineapple', 'Banana', 'Lime']\n",
      "Pineapple\n",
      "['Mango', 'Banana', 'Lime']\n"
     ]
    }
   ],
   "source": [
    "list1 = ['Mango', 'Pineapple', 'Coconut', 'Banana', 'Lime']\n",
    "print (list1)\n",
    "print (list1.pop(2))\n",
    "print (list1)\n",
    "print (list1.pop(1))\n",
    "print (list1)"
   ]
  },
  {
   "cell_type": "code",
   "execution_count": 109,
   "id": "1d1e1daf-3191-4696-a64b-4d8b84cd9c49",
   "metadata": {},
   "outputs": [
    {
     "name": "stdout",
     "output_type": "stream",
     "text": [
      "['Mango', 'Pineapple', 'Coconut', 'Banana', 'Lime']\n",
      "[]\n"
     ]
    }
   ],
   "source": [
    "list1 = ['Mango', 'Pineapple', 'Coconut', 'Banana', 'Lime']\n",
    "print (list1)\n",
    "list1.clear()\n",
    "print (list1)"
   ]
  },
  {
   "cell_type": "code",
   "execution_count": 110,
   "id": "77a98e71-a6f6-4da2-8fb4-7cf6cb59fede",
   "metadata": {},
   "outputs": [
    {
     "name": "stdout",
     "output_type": "stream",
     "text": [
      "['Mango', 'Pineapple', 'Coconut', 'Banana', 'Lime']\n",
      "['Mango', 'Pineapple', 'Banana', 'Lime']\n",
      "['Pineapple', 'Banana', 'Lime']\n",
      "['Pineapple', 'Lime']\n"
     ]
    }
   ],
   "source": [
    "list1 = ['Mango', 'Pineapple', 'Coconut', 'Banana', 'Lime']\n",
    "print (list1)\n",
    "del list1[2]\n",
    "print (list1)\n",
    "del list1[0]\n",
    "print (list1)\n",
    "del list1[1]\n",
    "print (list1)"
   ]
  },
  {
   "cell_type": "code",
   "execution_count": 111,
   "id": "b40ea2b8-fbdc-4576-88d5-0d7f484b1047",
   "metadata": {},
   "outputs": [
    {
     "name": "stdout",
     "output_type": "stream",
     "text": [
      "['Mango', 'Pineapple', 'Coconut', 'Banana', 'Lime']\n"
     ]
    },
    {
     "ename": "NameError",
     "evalue": "name 'list1' is not defined",
     "output_type": "error",
     "traceback": [
      "\u001b[1;31m---------------------------------------------------------------------------\u001b[0m",
      "\u001b[1;31mNameError\u001b[0m                                 Traceback (most recent call last)",
      "Cell \u001b[1;32mIn[111], line 4\u001b[0m\n\u001b[0;32m      2\u001b[0m \u001b[38;5;28mprint\u001b[39m (list1)\n\u001b[0;32m      3\u001b[0m \u001b[38;5;28;01mdel\u001b[39;00m list1\n\u001b[1;32m----> 4\u001b[0m \u001b[38;5;28mprint\u001b[39m (\u001b[43mlist1\u001b[49m)\n",
      "\u001b[1;31mNameError\u001b[0m: name 'list1' is not defined"
     ]
    }
   ],
   "source": [
    "list1 = ['Mango', 'Pineapple', 'Coconut', 'Banana', 'Lime']\n",
    "print (list1)\n",
    "del list1\n",
    "print (list1)"
   ]
  },
  {
   "cell_type": "code",
   "execution_count": 112,
   "id": "ba3ba4c3-265b-4e3d-b672-f4e407e2d2c1",
   "metadata": {},
   "outputs": [
    {
     "name": "stdout",
     "output_type": "stream",
     "text": [
      "['Mango', 'Pineapple', 'Coconut', 'Banana', 'Lime']\n",
      "['Lime', 'Banana', 'Coconut', 'Pineapple', 'Mango']\n"
     ]
    }
   ],
   "source": [
    "# reverse of a list\n",
    "list1 = ['Mango', 'Pineapple', 'Coconut', 'Banana', 'Lime']\n",
    "print (list1)\n",
    "list1.reverse()\n",
    "print (list1)"
   ]
  },
  {
   "cell_type": "code",
   "execution_count": 113,
   "id": "3d465183-b96c-4ed9-9568-2970cdf08da6",
   "metadata": {},
   "outputs": [
    {
     "name": "stdout",
     "output_type": "stream",
     "text": [
      "['Mango', 'Pineapple', 'Coconut', 'Banana', 'Lime']\n",
      "['Banana', 'Coconut', 'Lime', 'Mango', 'Pineapple']\n"
     ]
    }
   ],
   "source": [
    "# sorting of a list\n",
    "list1 = ['Mango', 'Pineapple', 'Coconut', 'Banana', 'Lime']\n",
    "print (list1)\n",
    "list1.sort()\n",
    "print (list1)"
   ]
  },
  {
   "cell_type": "code",
   "execution_count": 114,
   "id": "c4a97c1e-2604-4d10-b0f4-e815efd8bcc0",
   "metadata": {},
   "outputs": [
    {
     "name": "stdout",
     "output_type": "stream",
     "text": [
      "['Mango', 'Pineapple', 'Coconut', 'Banana', 'Lime']\n",
      "['Pineapple', 'Mango', 'Lime', 'Coconut', 'Banana']\n"
     ]
    }
   ],
   "source": [
    "list1 = ['Mango', 'Pineapple', 'Coconut', 'Banana', 'Lime']\n",
    "print (list1)\n",
    "list1.sort(reverse = True)\n",
    "print (list1)"
   ]
  },
  {
   "cell_type": "code",
   "execution_count": 115,
   "id": "3bebf834-0455-4a91-b24f-e5af5c71456b",
   "metadata": {},
   "outputs": [
    {
     "name": "stdout",
     "output_type": "stream",
     "text": [
      "['Mango', 'Pineapple', 'Coconut', 'Banana', 'Lime']\n",
      "['Banana', 'Coconut', 'Lime', 'Mango', 'Pineapple']\n"
     ]
    }
   ],
   "source": [
    "list1 = ['Mango', 'Pineapple', 'Coconut', 'Banana', 'Lime']\n",
    "print (list1)\n",
    "list1 = sorted(list1)\n",
    "print (list1)\n",
    "list1 = sorted(list1, reverse = True)"
   ]
  },
  {
   "cell_type": "code",
   "execution_count": 116,
   "id": "cd9f1672-193f-4914-a3be-c142bdd61f65",
   "metadata": {},
   "outputs": [
    {
     "name": "stdout",
     "output_type": "stream",
     "text": [
      "['Mango', 'Pineapple', 'Coconut', 'Banana', 'Lime']\n",
      "['Pineapple', 'Mango', 'Lime', 'Coconut', 'Banana']\n"
     ]
    }
   ],
   "source": [
    "list1 = ['Mango', 'Pineapple', 'Coconut', 'Banana', 'Lime']\n",
    "print (list1)\n",
    "list1 = sorted(list1, reverse = True)\n",
    "print (list1)"
   ]
  },
  {
   "cell_type": "code",
   "execution_count": 117,
   "id": "70b387e1-b30f-4235-a3f7-e29717812a99",
   "metadata": {},
   "outputs": [
    {
     "name": "stdout",
     "output_type": "stream",
     "text": [
      "True False\n",
      "True True\n",
      "False False\n"
     ]
    }
   ],
   "source": [
    "list1 = [True, False, True, True]\n",
    "print (any(list1), all(list1))\n",
    "list1 = [True, True, True, True]\n",
    "print (any(list1), all(list1))\n",
    "list1 = [False, False, False, False]\n",
    "print (any(list1), all(list1))"
   ]
  },
  {
   "cell_type": "code",
   "execution_count": 118,
   "id": "fdcdc3e6-7158-43e0-85a4-1d8f20cff300",
   "metadata": {},
   "outputs": [
    {
     "name": "stdout",
     "output_type": "stream",
     "text": [
      "['Mango', 'Pineapple', 'Coconut', 'Banana', 'Pineapple', 'Coconut', 'Banana', 'Lime']\n",
      "2\n",
      "1\n",
      "4\n"
     ]
    }
   ],
   "source": [
    "list1 = ['Mango', 'Pineapple', 'Coconut', 'Banana', 'Pineapple', 'Coconut', 'Banana', 'Lime']\n",
    "print (list1)\n",
    "print (list1.count('Pineapple'))\n",
    "print (list1.index(\"Pineapple\"))\n",
    "print (list1.index(\"Pineapple\", 2))"
   ]
  },
  {
   "cell_type": "markdown",
   "id": "7a7ef2a8-3ed3-4174-a656-6484ad056a69",
   "metadata": {},
   "source": [
    "## Tuple Processing"
   ]
  },
  {
   "cell_type": "code",
   "execution_count": 119,
   "id": "305f8950-79ff-415c-9ded-155efb0cbb9b",
   "metadata": {},
   "outputs": [
    {
     "name": "stdout",
     "output_type": "stream",
     "text": [
      "(100, 400, 300, 200, 700) 8 <class 'tuple'> 2545118642720\n",
      "700 100\n",
      "1700 340.0\n"
     ]
    }
   ],
   "source": [
    "tuple1 = (100, 400, 300, 200, 700)\n",
    "print (tuple1, len(list1), type(tuple1), id(tuple1))\n",
    "print (max(tuple1), min(tuple1))\n",
    "print (sum(tuple1), sum(tuple1) / len(tuple1))"
   ]
  },
  {
   "cell_type": "code",
   "execution_count": 120,
   "id": "abdfc283-06e0-4a0c-a669-a0f67a1fb5db",
   "metadata": {},
   "outputs": [
    {
     "name": "stdout",
     "output_type": "stream",
     "text": [
      "(100, 400, True, 300, 200, False, 700) 8 <class 'tuple'> 2545118418240\n",
      "700 False\n",
      "1701 243.0\n"
     ]
    }
   ],
   "source": [
    "tuple1 = (100, 400, True, 300, 200, False, 700)\n",
    "print (tuple1, len(list1), type(tuple1), id(tuple1))\n",
    "print (max(tuple1), min(tuple1))\n",
    "print (sum(tuple1), sum(tuple1) / len(tuple1))"
   ]
  },
  {
   "cell_type": "code",
   "execution_count": 121,
   "id": "1595378c-e028-405d-bff1-d33286cbe4ec",
   "metadata": {},
   "outputs": [
    {
     "name": "stdout",
     "output_type": "stream",
     "text": [
      "('sunday', 'monday', 'friday', 'saturday', 'Tuesday') 8 <class 'tuple'> 2545118642720\n",
      "sunday Tuesday\n"
     ]
    },
    {
     "ename": "TypeError",
     "evalue": "unsupported operand type(s) for +: 'int' and 'str'",
     "output_type": "error",
     "traceback": [
      "\u001b[1;31m---------------------------------------------------------------------------\u001b[0m",
      "\u001b[1;31mTypeError\u001b[0m                                 Traceback (most recent call last)",
      "Cell \u001b[1;32mIn[121], line 4\u001b[0m\n\u001b[0;32m      2\u001b[0m \u001b[38;5;28mprint\u001b[39m (tuple1, \u001b[38;5;28mlen\u001b[39m(list1), \u001b[38;5;28mtype\u001b[39m(tuple1), \u001b[38;5;28mid\u001b[39m(tuple1))\n\u001b[0;32m      3\u001b[0m \u001b[38;5;28mprint\u001b[39m (\u001b[38;5;28mmax\u001b[39m(tuple1), \u001b[38;5;28mmin\u001b[39m(tuple1))\n\u001b[1;32m----> 4\u001b[0m \u001b[38;5;28mprint\u001b[39m (\u001b[38;5;28;43msum\u001b[39;49m\u001b[43m(\u001b[49m\u001b[43mtuple1\u001b[49m\u001b[43m)\u001b[49m, \u001b[38;5;28msum\u001b[39m(tuple1) \u001b[38;5;241m/\u001b[39m \u001b[38;5;28mlen\u001b[39m(tuple1))\n",
      "\u001b[1;31mTypeError\u001b[0m: unsupported operand type(s) for +: 'int' and 'str'"
     ]
    }
   ],
   "source": [
    "tuple1 = (\"sunday\", \"monday\", 'friday', 'saturday', 'Tuesday')\n",
    "print (tuple1, len(list1), type(tuple1), id(tuple1))\n",
    "print (max(tuple1), min(tuple1))\n",
    "print (sum(tuple1), sum(tuple1) / len(tuple1))"
   ]
  },
  {
   "cell_type": "code",
   "execution_count": 122,
   "id": "29a09b5e-e894-4a7c-9680-7614768060fe",
   "metadata": {},
   "outputs": [
    {
     "name": "stdout",
     "output_type": "stream",
     "text": [
      "(100, 400, True, 'Tuesday', 300, 'Wednesday', 200, False, 700) 8 <class 'tuple'> 2545118216000\n"
     ]
    },
    {
     "ename": "TypeError",
     "evalue": "'>' not supported between instances of 'str' and 'int'",
     "output_type": "error",
     "traceback": [
      "\u001b[1;31m---------------------------------------------------------------------------\u001b[0m",
      "\u001b[1;31mTypeError\u001b[0m                                 Traceback (most recent call last)",
      "Cell \u001b[1;32mIn[122], line 3\u001b[0m\n\u001b[0;32m      1\u001b[0m tuple1 \u001b[38;5;241m=\u001b[39m (\u001b[38;5;241m100\u001b[39m, \u001b[38;5;241m400\u001b[39m, \u001b[38;5;28;01mTrue\u001b[39;00m, \u001b[38;5;124m\"\u001b[39m\u001b[38;5;124mTuesday\u001b[39m\u001b[38;5;124m\"\u001b[39m, \u001b[38;5;241m300\u001b[39m, \u001b[38;5;124m\"\u001b[39m\u001b[38;5;124mWednesday\u001b[39m\u001b[38;5;124m\"\u001b[39m, \u001b[38;5;241m200\u001b[39m, \u001b[38;5;28;01mFalse\u001b[39;00m, \u001b[38;5;241m700\u001b[39m)\n\u001b[0;32m      2\u001b[0m \u001b[38;5;28mprint\u001b[39m (tuple1, \u001b[38;5;28mlen\u001b[39m(list1), \u001b[38;5;28mtype\u001b[39m(tuple1), \u001b[38;5;28mid\u001b[39m(tuple1))\n\u001b[1;32m----> 3\u001b[0m \u001b[38;5;28mprint\u001b[39m (\u001b[38;5;28;43mmax\u001b[39;49m\u001b[43m(\u001b[49m\u001b[43mtuple1\u001b[49m\u001b[43m)\u001b[49m, \u001b[38;5;28mmin\u001b[39m(tuple1))\n\u001b[0;32m      4\u001b[0m \u001b[38;5;28mprint\u001b[39m (\u001b[38;5;28msum\u001b[39m(tuple1), \u001b[38;5;28msum\u001b[39m(tuple1) \u001b[38;5;241m/\u001b[39m \u001b[38;5;28mlen\u001b[39m(tuple1))\n",
      "\u001b[1;31mTypeError\u001b[0m: '>' not supported between instances of 'str' and 'int'"
     ]
    }
   ],
   "source": [
    "tuple1 = (100, 400, True, \"Tuesday\", 300, \"Wednesday\", 200, False, 700)\n",
    "print (tuple1, len(list1), type(tuple1), id(tuple1))\n",
    "print (max(tuple1), min(tuple1))\n",
    "print (sum(tuple1), sum(tuple1) / len(tuple1))"
   ]
  },
  {
   "cell_type": "code",
   "execution_count": 123,
   "id": "e8568763-84d5-403d-a90b-6fd97acbc479",
   "metadata": {},
   "outputs": [
    {
     "name": "stdout",
     "output_type": "stream",
     "text": [
      "Wednesday Wednesday Thursday Thursday\n",
      "nes nes\n"
     ]
    }
   ],
   "source": [
    "# Indexing and slicing\n",
    "# L ro R ->   0         1          2            3           4\n",
    "tuple1 =    (\"Monday\", \"Tuesday\", \"Wednesday\", \"Thursday\", \"Friday\")\n",
    "# R to L ->  -5        -4         -3           -2          -1\n",
    "print (tuple1[2], tuple1[-3], tuple1[3], tuple1[-2])\n",
    "print (tuple1[2][3:6], tuple1[-3][-6:-3])"
   ]
  },
  {
   "cell_type": "code",
   "execution_count": 124,
   "id": "44b1d28d-4f1a-405e-adb3-b10d6460667d",
   "metadata": {},
   "outputs": [
    {
     "name": "stdout",
     "output_type": "stream",
     "text": [
      "('Monday', 'Tuesday', 'Wednesday', 'Thursday', 'Friday')\n",
      "('Mango', 'Pineapple', 'Guava', 'Lime')\n",
      "('Monday', 'Tuesday', 'Wednesday', 'Thursday', 'Friday', 'Mango', 'Pineapple', 'Guava', 'Lime')\n",
      "(('Monday', 'Tuesday', 'Wednesday', 'Thursday', 'Friday'), ('Mango', 'Pineapple', 'Guava', 'Lime'))\n"
     ]
    }
   ],
   "source": [
    "tuple1 = (\"Monday\", \"Tuesday\", \"Wednesday\", \"Thursday\", \"Friday\")\n",
    "tuple2 = (\"Mango\", \"Pineapple\", \"Guava\", \"Lime\")\n",
    "print (tuple1)\n",
    "print (tuple2)\n",
    "tuple3 = tuple1 + tuple2      # tuple concatenation\n",
    "print (tuple3)\n",
    "tuple3 = (tuple1, tuple2)     # tuple of tuples\n",
    "print (tuple3)"
   ]
  },
  {
   "cell_type": "code",
   "execution_count": 125,
   "id": "0f0c77fe-dc48-4e9d-b242-ba9a1ca4d8ae",
   "metadata": {},
   "outputs": [
    {
     "name": "stdout",
     "output_type": "stream",
     "text": [
      "10 <class 'int'>\n",
      "(10,) <class 'tuple'>\n"
     ]
    }
   ],
   "source": [
    "var1 = (10)\n",
    "print (var1, type(var1))\n",
    "var1 = (10,)   # singleton representation of a tuple\n",
    "print (var1, type(var1))"
   ]
  },
  {
   "cell_type": "code",
   "execution_count": 129,
   "id": "1ad15056-ddcc-405d-9fef-dcf647849f9d",
   "metadata": {},
   "outputs": [
    {
     "name": "stdout",
     "output_type": "stream",
     "text": [
      "('Monday', 'Tuesday', 'Wednesday', 'Thursday', 'Friday') 2545118240320\n",
      "['Monday', 'Tuesday', 'Wednesday', 'Thursday', 'Friday']\n",
      "['Monday', 'Saturday', 'Wednesday', 'Thursday', 'Friday']\n",
      "('Monday', 'Saturday', 'Wednesday', 'Thursday', 'Friday') 2545116930400\n"
     ]
    }
   ],
   "source": [
    "# update operation on a tuple\n",
    "tuple1 = (\"Monday\", \"Tuesday\", \"Wednesday\", \"Thursday\", \"Friday\")\n",
    "print (tuple1, id(tuple1))\n",
    "# tuple1[1] = 'Saturday'\n",
    "list1 = list(tuple1)\n",
    "print (list1)\n",
    "list1[1] = 'Saturday'\n",
    "print (list1)\n",
    "tuple1 = tuple(list1)\n",
    "print (tuple1, id(tuple1))"
   ]
  },
  {
   "cell_type": "code",
   "execution_count": 130,
   "id": "a25bd99d-c6bb-44f2-a03a-2830b75a1fe7",
   "metadata": {},
   "outputs": [
    {
     "name": "stdout",
     "output_type": "stream",
     "text": [
      "('Monday', 'Tuesday', 'Wednesday', 'Thursday', 'Friday') 2545118240320\n",
      "('Friday', 'Monday', 'Thursday', 'Tuesday', 'Wednesday') 2545116930400\n"
     ]
    }
   ],
   "source": [
    "# sorting on a tuple\n",
    "tuple1 = (\"Monday\", \"Tuesday\", \"Wednesday\", \"Thursday\", \"Friday\")\n",
    "print (tuple1, id(tuple1))\n",
    "tuple2 = tuple(sorted(tuple1))\n",
    "print (tuple2, id(tuple2))"
   ]
  },
  {
   "cell_type": "code",
   "execution_count": 131,
   "id": "d6fe3486-84c3-4b0a-a6d7-3030bbe94a09",
   "metadata": {},
   "outputs": [
    {
     "name": "stdout",
     "output_type": "stream",
     "text": [
      "True False\n",
      "True True\n",
      "False False\n"
     ]
    }
   ],
   "source": [
    "tuple1 = (True, False, True, True)\n",
    "print (any(tuple1), all(tuple1))\n",
    "\n",
    "tuple1 = (True, True, True, True)\n",
    "print (any(tuple1), all(tuple1))\n",
    "\n",
    "tuple1 = (False, False, False, False)\n",
    "print (any(tuple1), all(tuple1))"
   ]
  },
  {
   "cell_type": "code",
   "execution_count": 132,
   "id": "f10b9017-4005-4e53-bfc9-a923cb27a772",
   "metadata": {},
   "outputs": [
    {
     "name": "stdout",
     "output_type": "stream",
     "text": [
      "('Mango', 'Pineapple', 'Coconut', 'Banana', 'Pineapple', 'Coconut', 'Banana', 'Lime')\n",
      "2 0\n",
      "('Mango', 'Pineapple', 'Coconut', 'Banana', 'Pineapple', 'Coconut', 'Banana', 'Lime')\n"
     ]
    }
   ],
   "source": [
    "tuple1 = ('Mango', 'Pineapple', 'Coconut', 'Banana', 'Pineapple', 'Coconut', 'Banana', 'Lime')\n",
    "print (tuple1)\n",
    "print (tuple1.count('Pineapple'), tuple1.count('Lemon'))\n",
    "print (tuple1)"
   ]
  },
  {
   "cell_type": "code",
   "execution_count": 133,
   "id": "fc1a2d68-507e-4fb8-844d-ed2c33bdc0b8",
   "metadata": {},
   "outputs": [
    {
     "name": "stdout",
     "output_type": "stream",
     "text": [
      "('Mango', 'Pineapple', 'Coconut', 'Banana', 'Pineapple', 'Coconut', 'Banana', 'Lime')\n",
      "1\n",
      "1\n",
      "4\n"
     ]
    },
    {
     "ename": "ValueError",
     "evalue": "tuple.index(x): x not in tuple",
     "output_type": "error",
     "traceback": [
      "\u001b[1;31m---------------------------------------------------------------------------\u001b[0m",
      "\u001b[1;31mValueError\u001b[0m                                Traceback (most recent call last)",
      "Cell \u001b[1;32mIn[133], line 6\u001b[0m\n\u001b[0;32m      4\u001b[0m \u001b[38;5;28mprint\u001b[39m (tuple1\u001b[38;5;241m.\u001b[39mindex(\u001b[38;5;124m\"\u001b[39m\u001b[38;5;124mPineapple\u001b[39m\u001b[38;5;124m\"\u001b[39m, \u001b[38;5;241m0\u001b[39m))\n\u001b[0;32m      5\u001b[0m \u001b[38;5;28mprint\u001b[39m (tuple1\u001b[38;5;241m.\u001b[39mindex(\u001b[38;5;124m\"\u001b[39m\u001b[38;5;124mPineapple\u001b[39m\u001b[38;5;124m\"\u001b[39m, \u001b[38;5;241m2\u001b[39m))\n\u001b[1;32m----> 6\u001b[0m \u001b[38;5;28mprint\u001b[39m (\u001b[43mtuple1\u001b[49m\u001b[38;5;241;43m.\u001b[39;49m\u001b[43mindex\u001b[49m\u001b[43m(\u001b[49m\u001b[38;5;124;43m\"\u001b[39;49m\u001b[38;5;124;43mPineapple\u001b[39;49m\u001b[38;5;124;43m\"\u001b[39;49m\u001b[43m,\u001b[49m\u001b[43m \u001b[49m\u001b[38;5;241;43m5\u001b[39;49m\u001b[43m)\u001b[49m)\n",
      "\u001b[1;31mValueError\u001b[0m: tuple.index(x): x not in tuple"
     ]
    }
   ],
   "source": [
    "tuple1 = ('Mango', 'Pineapple', 'Coconut', 'Banana', 'Pineapple', 'Coconut', 'Banana', 'Lime')\n",
    "print (tuple1)\n",
    "print (tuple1.index(\"Pineapple\"))\n",
    "print (tuple1.index(\"Pineapple\", 0))\n",
    "print (tuple1.index(\"Pineapple\", 2))\n",
    "print (tuple1.index(\"Pineapple\", 5))"
   ]
  },
  {
   "cell_type": "markdown",
   "id": "33d1f484-c39d-4151-8f0b-41ca90746c83",
   "metadata": {},
   "source": [
    "# **Day-5**"
   ]
  },
  {
   "cell_type": "markdown",
   "id": "e6339c24-e210-47a6-a301-b5ae31701779",
   "metadata": {},
   "source": [
    "## Dictionary Processing"
   ]
  },
  {
   "cell_type": "code",
   "execution_count": null,
   "id": "ce3640ef-a6c9-4cee-b8ae-2debd6264274",
   "metadata": {},
   "outputs": [],
   "source": []
  },
  {
   "cell_type": "code",
   "execution_count": null,
   "id": "dc4522bc-bcea-4b94-98f5-c8a65bbaeb17",
   "metadata": {},
   "outputs": [],
   "source": []
  },
  {
   "cell_type": "code",
   "execution_count": null,
   "id": "3300be27-3ed9-4c2c-b9f3-d054b810ae4e",
   "metadata": {},
   "outputs": [],
   "source": []
  },
  {
   "cell_type": "code",
   "execution_count": null,
   "id": "a9a77579-b60f-4243-b78e-bb540cb9baf8",
   "metadata": {},
   "outputs": [],
   "source": []
  },
  {
   "cell_type": "code",
   "execution_count": null,
   "id": "d0b1eb78-53b3-49c6-918a-a59d9455fadd",
   "metadata": {},
   "outputs": [],
   "source": []
  },
  {
   "cell_type": "code",
   "execution_count": null,
   "id": "914756d2-fb02-417c-9ac1-ef86d0f55004",
   "metadata": {},
   "outputs": [],
   "source": []
  },
  {
   "cell_type": "code",
   "execution_count": null,
   "id": "98467bb0-88f2-403d-8dde-8c65036e11f5",
   "metadata": {},
   "outputs": [],
   "source": []
  },
  {
   "cell_type": "markdown",
   "id": "1d6b7cd7-1318-4017-b97e-7c46236e7620",
   "metadata": {},
   "source": [
    "## Set Processing"
   ]
  },
  {
   "cell_type": "code",
   "execution_count": null,
   "id": "1834df26-4c58-4e74-ade0-bec025465b1c",
   "metadata": {},
   "outputs": [],
   "source": []
  },
  {
   "cell_type": "code",
   "execution_count": null,
   "id": "0bed0088-b136-4e48-8853-7f5312746e4d",
   "metadata": {},
   "outputs": [],
   "source": []
  },
  {
   "cell_type": "code",
   "execution_count": null,
   "id": "839b0447-005a-464d-a0a3-71ccba60efab",
   "metadata": {},
   "outputs": [],
   "source": []
  },
  {
   "cell_type": "code",
   "execution_count": null,
   "id": "0b6d9324-ad1c-4a5a-8660-5100c3680fcf",
   "metadata": {},
   "outputs": [],
   "source": []
  },
  {
   "cell_type": "markdown",
   "id": "23bd32c9-6175-4776-a673-c5070ac8b572",
   "metadata": {},
   "source": [
    "## Frozen Set Processing"
   ]
  },
  {
   "cell_type": "code",
   "execution_count": null,
   "id": "e8146ba6-3a9f-45ea-ba14-6a248cf05bd6",
   "metadata": {},
   "outputs": [],
   "source": []
  },
  {
   "cell_type": "code",
   "execution_count": null,
   "id": "1788e17c-94db-4de2-9513-bcb571044d9b",
   "metadata": {},
   "outputs": [],
   "source": []
  },
  {
   "cell_type": "code",
   "execution_count": null,
   "id": "f89bc31f-9eaa-4d9f-bffd-6a62e2207341",
   "metadata": {},
   "outputs": [],
   "source": []
  },
  {
   "cell_type": "code",
   "execution_count": null,
   "id": "6032120d-0c9c-4cf7-a5a3-8ee9362e62dc",
   "metadata": {},
   "outputs": [],
   "source": []
  },
  {
   "cell_type": "code",
   "execution_count": null,
   "id": "1e9d44d7-5c3f-41f7-a475-14d9b4652e99",
   "metadata": {},
   "outputs": [],
   "source": []
  }
 ],
 "metadata": {
  "kernelspec": {
   "display_name": "Python 3 (ipykernel)",
   "language": "python",
   "name": "python3"
  },
  "language_info": {
   "codemirror_mode": {
    "name": "ipython",
    "version": 3
   },
   "file_extension": ".py",
   "mimetype": "text/x-python",
   "name": "python",
   "nbconvert_exporter": "python",
   "pygments_lexer": "ipython3",
   "version": "3.10.9"
  }
 },
 "nbformat": 4,
 "nbformat_minor": 5
}
