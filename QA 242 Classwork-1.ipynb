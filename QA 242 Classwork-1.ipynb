{
 "cells": [
  {
   "cell_type": "markdown",
   "id": "01f2d664-a91e-4d34-a1d6-dcaa54d512d9",
   "metadata": {},
   "source": [
    "# **Python Scripting**"
   ]
  },
  {
   "cell_type": "markdown",
   "id": "c96c081d-9034-4568-b2c0-b55bc409be08",
   "metadata": {},
   "source": [
    "# **Day-1**"
   ]
  },
  {
   "cell_type": "markdown",
   "id": "964c2253-dfca-48a2-aeeb-009741343842",
   "metadata": {},
   "source": [
    "## **Python Inputs and Outputs**"
   ]
  },
  {
   "cell_type": "code",
   "execution_count": 4,
   "id": "224ddbb1-3082-43ee-af8a-45c6ecde570c",
   "metadata": {},
   "outputs": [
    {
     "name": "stdin",
     "output_type": "stream",
     "text": [
      "Please enter the first number:  100\n",
      "Please enter the second number:  200\n"
     ]
    },
    {
     "name": "stdout",
     "output_type": "stream",
     "text": [
      "100 <class 'str'> 1708743530992\n",
      "200 <class 'str'> 1708743530352\n",
      "So total = 100200\n",
      "End of the program...\n"
     ]
    }
   ],
   "source": [
    "num1 = input(\"Please enter the first number: \")\n",
    "num2 = input(\"Please enter the second number: \")\n",
    "print (num1, type(num1), id(num1))\n",
    "print (num2, type(num2), id(num2))\n",
    "total = num1 + num2    # String concatenation\n",
    "print (\"So total =\", total)\n",
    "print (\"End of the program...\")"
   ]
  },
  {
   "cell_type": "code",
   "execution_count": 6,
   "id": "64f529dc-5e0c-475d-b42d-cd767e8e7b4d",
   "metadata": {},
   "outputs": [
    {
     "name": "stdin",
     "output_type": "stream",
     "text": [
      "Please enter the first number:  200\n",
      "Please enter the second number:  300\n"
     ]
    },
    {
     "name": "stdout",
     "output_type": "stream",
     "text": [
      "200 <class 'int'> 1708664232400\n",
      "300 <class 'int'> 1708742880016\n",
      "So total = 500\n",
      "End of the program...\n"
     ]
    }
   ],
   "source": [
    "num1 = int(input(\"Please enter the first number: \"))\n",
    "num2 = int(input(\"Please enter the second number: \"))\n",
    "print (num1, type(num1), id(num1))\n",
    "print (num2, type(num2), id(num2))\n",
    "total = num1 + num2    # algebraic addition\n",
    "print (\"So total =\", total)\n",
    "print (\"End of the program...\")"
   ]
  },
  {
   "cell_type": "code",
   "execution_count": 21,
   "id": "5cc42449-17e1-4d2c-941f-92a93a170e81",
   "metadata": {},
   "outputs": [
    {
     "name": "stdout",
     "output_type": "stream",
     "text": [
      "So 200 + 300 = 500\n",
      "So 200 + 300 = 500\n",
      "So 200 + 300 = 500\n",
      "So 200 + 300 = 500\n",
      "So 200 + 300 = 500\n",
      "So 200 + 300 = 500\n",
      "So 200 + 300 = 500\n",
      "So 200 + 300 = 500\n",
      "So 200 + 300 = 500\n",
      "So 200 + 300.000000 = 500\n",
      "So   200.00 +    300.000 = 500\n"
     ]
    }
   ],
   "source": [
    "print (\"So\", num1, \"+\", num2, \"=\", total)\n",
    "print (\"So \" + str(num1) + \" + \" + str(num2) + \" = \" + str(total))\n",
    "print (\"So {} + {} = {}\".format(num1, num2, total))    # {} is called variable placeholder\n",
    "print (\"So {0} + {1} = {2}\".format(num1, num2, total))    # indexed variable placeholder\n",
    "print (\"So {2} + {1} = {0}\".format(total, num2, num1))    # indexed variable placeholder\n",
    "print (\"So {fn} + {sn} = {re}\".format(fn = num1, sn = num2, re = total))    # labelled variable placeholder\n",
    "print (\"So {fn} + {sn} = {re}\".format(re = total, sn = num2, fn = num1))    # labelled variable placeholder\n",
    "print (f\"So {num1} + {num2} = {total}\")    # smart formatting applicable from Python 2.7 and onward versions\n",
    "print (\"So %d + %d = %d\"%(num1, num2, total))\n",
    "print (\"So %d + %f = %d\"%(num1, num2, total))\n",
    "print (\"So %8.2f + %10.3f = %d\"%(num1, num2, total))"
   ]
  },
  {
   "cell_type": "markdown",
   "id": "dedb07ab-2400-4670-8099-0c6010b7b53b",
   "metadata": {},
   "source": [
    "## **Python Dynamic Variable Datatypes**"
   ]
  },
  {
   "cell_type": "code",
   "execution_count": 22,
   "id": "fe56251b-f650-4f16-aa00-522fbf46e71b",
   "metadata": {},
   "outputs": [
    {
     "name": "stdout",
     "output_type": "stream",
     "text": [
      "100 <class 'int'> 1708664229200\n",
      "100.5 <class 'float'> 1708742872464\n",
      "Punch <class 'str'> 1708771758384\n",
      "P <class 'str'> 1708665790000\n",
      "Punch <class 'str'> 1708771758384\n",
      "P <class 'str'> 1708665790000\n",
      "True <class 'bool'> 140734189291728\n",
      "False <class 'bool'> 140734189291760\n"
     ]
    }
   ],
   "source": [
    "var1 = 100; print (var1, type(var1), id(var1))\n",
    "var1 = 100.5; print (var1, type(var1), id(var1))\n",
    "var1 = \"Punch\"; print (var1, type(var1), id(var1))\n",
    "var1 = \"P\"; print (var1, type(var1), id(var1))\n",
    "var1 = 'Punch'; print (var1, type(var1), id(var1))\n",
    "var1 = 'P'; print (var1, type(var1), id(var1))\n",
    "var1 = True; print (var1, type(var1), id(var1))\n",
    "var1 = False; print (var1, type(var1), id(var1))"
   ]
  },
  {
   "cell_type": "markdown",
   "id": "1a4a83bf-70b2-463c-9417-55144fd8c992",
   "metadata": {},
   "source": [
    "## **Python Operators**"
   ]
  },
  {
   "cell_type": "code",
   "execution_count": null,
   "id": "78f8bd0c-a176-40ba-9360-cc39367a4e10",
   "metadata": {},
   "outputs": [],
   "source": [
    "# Arithmetic Operators: + - * / // ** %\n",
    "# Conditional Operators: > >= < <= != ==\n",
    "# Logical Operators: and or not\n",
    "# Assignment Operator: = \n",
    "# Special Assignment Operators: += -= *= /= //= **= %=\n",
    "\n",
    "# Operators: Unary, Binary, Ternary\n",
    "# Unary Operators (Require only one operand): +100 -300\n",
    "# Binary Operators (Require only two operands): 700 + 100    900 - 300\n",
    "# Ternary Operator (Requires only three operands)"
   ]
  },
  {
   "cell_type": "code",
   "execution_count": 24,
   "id": "e5887e7e-53fa-44cd-94f4-082d797e134a",
   "metadata": {},
   "outputs": [
    {
     "name": "stdout",
     "output_type": "stream",
     "text": [
      "140\n",
      "60\n",
      "4000\n",
      "2.5\n",
      "2\n",
      "100000000\n",
      "20\n"
     ]
    }
   ],
   "source": [
    "# Arithmetic Operators: + - * / // ** %\n",
    "print (100 + 40)    # addition\n",
    "print (100 - 40)    # subtraction\n",
    "print (100 * 40)    # multiplication\n",
    "print (100 / 40)    # float division\n",
    "print (100 // 40)   # integer division\n",
    "print (100 ** 4)    # exponentiation\n",
    "print (100 % 40)    # modulus, remainder of the division"
   ]
  },
  {
   "cell_type": "code",
   "execution_count": 25,
   "id": "11cfb641-f342-4c96-942e-e40eafc1e2a9",
   "metadata": {},
   "outputs": [
    {
     "name": "stdout",
     "output_type": "stream",
     "text": [
      "True True True True True True\n"
     ]
    }
   ],
   "source": [
    "# Conditional Operators: > >= < <= != ==\n",
    "print (100 > 40, 100 >= 40, 40 < 100, 40 <= 100, 100 != 40, 100 == 100)"
   ]
  },
  {
   "cell_type": "code",
   "execution_count": 28,
   "id": "2704a76f-6801-488a-baef-8e86f86237b7",
   "metadata": {},
   "outputs": [
    {
     "name": "stdout",
     "output_type": "stream",
     "text": [
      "False False False True\n",
      "False True True True\n",
      "False True\n"
     ]
    }
   ],
   "source": [
    "# Logical Operators: and or not\n",
    "print (False and False, False and True, True and False, True and True)\n",
    "print (False or False, False or True, True or False, True or True)\n",
    "print (not True, not False)"
   ]
  },
  {
   "cell_type": "code",
   "execution_count": 29,
   "id": "aaef9fec-4769-4875-9fe1-97fd97752fa1",
   "metadata": {},
   "outputs": [
    {
     "name": "stdout",
     "output_type": "stream",
     "text": [
      "100\n",
      "500\n",
      "900\n"
     ]
    }
   ],
   "source": [
    "# Special Assignment Operators: += -= *= /= //= **= %=\n",
    "num1 = 100\n",
    "print (num1)\n",
    "num1 = num1 + 400\n",
    "print (num1)\n",
    "num1 += 400\n",
    "print (num1)"
   ]
  },
  {
   "cell_type": "code",
   "execution_count": 31,
   "id": "a8d2ed5b-6789-45a1-9941-8442c64658f3",
   "metadata": {},
   "outputs": [
    {
     "name": "stdout",
     "output_type": "stream",
     "text": [
      "100 EVEN\n",
      "101 ODD\n"
     ]
    }
   ],
   "source": [
    "# Ternary Operator (Requires only three operands)\n",
    "num1 = 100\n",
    "result = \"EVEN\" if (num1 % 2 == 0) else \"ODD\"\n",
    "print (num1, result)\n",
    "\n",
    "num1 = 101\n",
    "result = \"EVEN\" if (num1 % 2 == 0) else \"ODD\"\n",
    "print (num1, result)"
   ]
  },
  {
   "cell_type": "markdown",
   "id": "dd933f7a-31ff-4355-80d1-17ca27c9a24a",
   "metadata": {},
   "source": [
    "## **Characters and ASCII Codes**"
   ]
  },
  {
   "cell_type": "code",
   "execution_count": 32,
   "id": "be8c9e81-1628-45be-a7a1-525bb7179dd8",
   "metadata": {},
   "outputs": [
    {
     "name": "stdout",
     "output_type": "stream",
     "text": [
      "65 97 90 122\n",
      "A a Z z\n"
     ]
    }
   ],
   "source": [
    "# ASCII (American Standard Code for Information Interchange) Codes\n",
    "# A => 65, B => 66, Z => 90\n",
    "# a => 97, b => 98, z => 122\n",
    "# 0 => 48, 1 => 49, 9 => 57\n",
    "# Space Bar/Blank => 32, Enter => 13, Esc => 27, Back Space => 9, Tab => 8\n",
    "# ASCII Code is 8 bits code ranging from 0 to 255\n",
    "# It can be divided into two categories:\n",
    "# 1. Normal ASCII Codes (0 to 127) - Printable\n",
    "# 2. Extended ASCII Codes (128 to 255) - Non-Printable\n",
    "print (ord('A'), ord('a'), ord('Z'), ord('z'))  # returns characters to ASCII Codes\n",
    "print (chr(65), chr(97), chr(90), chr(122))     # returns ASCII Codes to characters"
   ]
  },
  {
   "cell_type": "markdown",
   "id": "34bd6b58-15ed-4a29-bae0-5630ad01888c",
   "metadata": {},
   "source": [
    "## **Conditional Statements**"
   ]
  },
  {
   "cell_type": "code",
   "execution_count": 41,
   "id": "f38260a3-ff6c-43c9-8cc4-59d3fd40b405",
   "metadata": {},
   "outputs": [
    {
     "name": "stdin",
     "output_type": "stream",
     "text": [
      "Please enter the first integer:  300\n",
      "Please enter the second integer:  200\n",
      "Please enter the third integer:  100\n"
     ]
    },
    {
     "name": "stdout",
     "output_type": "stream",
     "text": [
      "The first number is the maximum number...\n",
      "So the maximum number is 300\n",
      "End of the program...\n"
     ]
    }
   ],
   "source": [
    "# Take three numbers from the user as input and find the maximum of these three numbers\n",
    "num1 = int(input(\"Please enter the first integer: \"))\n",
    "num2 = int(input(\"Please enter the second integer: \"))\n",
    "num3 = int(input(\"Please enter the third integer: \"))\n",
    "if (num1 > num2):\n",
    "    if (num1 > num3):\n",
    "        print (\"The first number is the maximum number...\")\n",
    "        print (\"So the maximum number is\", num1)\n",
    "    else:\n",
    "        print (\"The third number is the maximum number...\")\n",
    "        print (\"So the maximum number is\", num3)\n",
    "elif (num2 > num3):\n",
    "    print (\"The second number is the maximum number...\")\n",
    "    print (\"So the maximum number is\", num2)\n",
    "else:\n",
    "    print (\"The third number is the maximum number...\")\n",
    "    print (\"So the maximum number is\", num3)\n",
    "print (\"End of the program...\")"
   ]
  },
  {
   "cell_type": "code",
   "execution_count": 44,
   "id": "93d6e830-9393-475c-94cc-12ca14d9b974",
   "metadata": {},
   "outputs": [
    {
     "name": "stdin",
     "output_type": "stream",
     "text": [
      "Please enter the first integer:  200\n",
      "Please enter the second integer:  100\n",
      "Please enter the third integer:  300\n"
     ]
    },
    {
     "name": "stdout",
     "output_type": "stream",
     "text": [
      "The third number is the maximum number...\n",
      "So the maximum number is 300\n",
      "End of the program...\n"
     ]
    }
   ],
   "source": [
    "# Take three numbers from the user as input and find the maximum of these numbers\n",
    "num1 = int(input(\"Please enter the first integer: \"))\n",
    "num2 = int(input(\"Please enter the second integer: \"))\n",
    "num3 = int(input(\"Please enter the third integer: \"))\n",
    "if (num1 > num2 and num1 > num3):\n",
    "    print (\"The first number is the maximum number...\")\n",
    "    print (\"So the maximum number is\", num1)\n",
    "elif (num2 > num3):\n",
    "    print (\"The second number is the maximum number...\")\n",
    "    print (\"So the maximum number is\", num2)\n",
    "else:\n",
    "    print (\"The third number is the maximum number...\")\n",
    "    print (\"So the maximum number is\", num3)\n",
    "print (\"End of the program...\")"
   ]
  },
  {
   "cell_type": "code",
   "execution_count": 47,
   "id": "4a3440ec-de0e-46e9-8c60-e90da96fa385",
   "metadata": {},
   "outputs": [
    {
     "name": "stdout",
     "output_type": "stream",
     "text": [
      "M A I N  M E N U ...\n",
      "~~~~~~~~~~~~~~~~~~~~\n",
      "1 >  A D D I T I O N  O P E R A T I O N ...\n",
      "2 >  S U B T R A C T I O N  O P E R A T I O N ...\n",
      "3 >  M U L T I P L I C A T I O N  O P E R A T I O N ...\n",
      "4 >  D I V I S I O N  O P E R A T I O N ...\n"
     ]
    },
    {
     "name": "stdin",
     "output_type": "stream",
     "text": [
      "Please enter youe choice integer (1 to 4):  4\n",
      "Please enter the first integer:  100\n",
      "Please enter the second integer:  0\n"
     ]
    },
    {
     "name": "stdout",
     "output_type": "stream",
     "text": [
      "Performing the division operation...\n",
      "Division by ZERO is Illegal !!!\n",
      "Division operation can not be carried out...\n",
      "End of the program...\n"
     ]
    }
   ],
   "source": [
    "# Calculator Program\n",
    "print (\"M A I N  M E N U ...\")\n",
    "print (\"~~~~~~~~~~~~~~~~~~~~\")\n",
    "print (\"1 >  A D D I T I O N  O P E R A T I O N ...\")\n",
    "print (\"2 >  S U B T R A C T I O N  O P E R A T I O N ...\")\n",
    "print (\"3 >  M U L T I P L I C A T I O N  O P E R A T I O N ...\")\n",
    "print (\"4 >  D I V I S I O N  O P E R A T I O N ...\")\n",
    "choice = int(input(\"Please enter youe choice integer (1 to 4): \"))\n",
    "num1 = int(input(\"Please enter the first integer: \"))\n",
    "num2 = int(input(\"Please enter the second integer: \"))\n",
    "if (choice == 1):\n",
    "    print (\"Performing the addition operation...\")\n",
    "    result = num1 + num2\n",
    "    print (f\"So {num1} + {num2} = {result}\")\n",
    "elif (choice == 2):\n",
    "    print (\"Performing the subtraction operation...\")\n",
    "    result = num1 - num2\n",
    "    print (f\"So {num1} - {num2} = {result}\")\n",
    "elif (choice == 3):\n",
    "    print (\"Performing the multiplication operation...\")\n",
    "    result = num1 * num2\n",
    "    print (f\"So {num1} * {num2} = {result}\")\n",
    "elif (choice == 4):\n",
    "    print (\"Performing the division operation...\")\n",
    "    if (num2 == 0):\n",
    "        print (\"Division by ZERO is Illegal !!!\")\n",
    "        print (\"Division operation can not be carried out...\")\n",
    "    else:\n",
    "        result = num1 / num2\n",
    "        print (f\"So {num1} / {num2} = {result}\")\n",
    "else:\n",
    "    print (\"Invalid choice number has been provided...\")\n",
    "    print (\"No operation could get carried out...\")\n",
    "print (\"End of the program...\")"
   ]
  },
  {
   "cell_type": "markdown",
   "id": "bd8c47e2-7219-43d7-83f9-b97fb990b242",
   "metadata": {},
   "source": [
    "## **'print' function**"
   ]
  },
  {
   "cell_type": "code",
   "execution_count": 49,
   "id": "1be12a14-e700-4ee3-814e-1909451fbdcc",
   "metadata": {},
   "outputs": [
    {
     "name": "stdout",
     "output_type": "stream",
     "text": [
      "Hello to all\n",
      "Good afternoon\n"
     ]
    }
   ],
   "source": [
    "print (\"Hello\", \"to all\")\n",
    "print (\"Good afternoon\")"
   ]
  },
  {
   "cell_type": "code",
   "execution_count": 50,
   "id": "727d6c39-9f29-4d57-865b-e251c7ddc178",
   "metadata": {},
   "outputs": [
    {
     "name": "stdout",
     "output_type": "stream",
     "text": [
      "Help on built-in function print in module builtins:\n",
      "\n",
      "print(...)\n",
      "    print(value, ..., sep=' ', end='\\n', file=sys.stdout, flush=False)\n",
      "    \n",
      "    Prints the values to a stream, or to sys.stdout by default.\n",
      "    Optional keyword arguments:\n",
      "    file:  a file-like object (stream); defaults to the current sys.stdout.\n",
      "    sep:   string inserted between values, default a space.\n",
      "    end:   string appended after the last value, default a newline.\n",
      "    flush: whether to forcibly flush the stream.\n",
      "\n"
     ]
    }
   ],
   "source": [
    "help (print)   # ... ellipsis operator"
   ]
  },
  {
   "cell_type": "code",
   "execution_count": 51,
   "id": "7268d9d7-2c4a-44ff-872d-3a39204cc2f9",
   "metadata": {},
   "outputs": [
    {
     "name": "stdout",
     "output_type": "stream",
     "text": [
      "Hello - to all, Good afternoon\n"
     ]
    }
   ],
   "source": [
    "print (\"Hello\", \"to all\", sep = \" - \", end = \", \")\n",
    "print (\"Good afternoon\")"
   ]
  },
  {
   "cell_type": "markdown",
   "id": "ca9001fe-0d26-478b-920a-ad3bff1d445b",
   "metadata": {},
   "source": [
    "# **Day-2**"
   ]
  },
  {
   "cell_type": "markdown",
   "id": "e6dc57f4-8bbd-4422-aeda-b734b7af967f",
   "metadata": {},
   "source": [
    "## **Python Loops**"
   ]
  },
  {
   "cell_type": "code",
   "execution_count": 3,
   "id": "202a5621-71cd-47be-ae78-e8c78b9ea1ba",
   "metadata": {},
   "outputs": [
    {
     "name": "stdout",
     "output_type": "stream",
     "text": [
      "i = 0\n",
      "i = 1\n",
      "i = 2\n",
      "i = 3\n",
      "i = 4\n",
      "i = 5\n",
      "i = 6\n",
      "i = 7\n",
      "i = 8\n",
      "i = 9\n",
      "End of the loop execution...\n"
     ]
    }
   ],
   "source": [
    "# for i in range(10):\n",
    "# for i in range(0, 10):\n",
    "for i in range(0, 10, 1):\n",
    "    print (\"i =\", i)\n",
    "print (\"End of the loop execution...\")"
   ]
  },
  {
   "cell_type": "code",
   "execution_count": 4,
   "id": "eff42c60-a006-41c6-a2df-92891d6ddd36",
   "metadata": {},
   "outputs": [
    {
     "name": "stdout",
     "output_type": "stream",
     "text": [
      "i = 0\n",
      "i = 2\n",
      "i = 4\n",
      "i = 6\n",
      "i = 8\n",
      "End of the loop execution...\n"
     ]
    }
   ],
   "source": [
    "for i in range(0, 10, 2):\n",
    "    print (\"i =\", i)\n",
    "print (\"End of the loop execution...\")"
   ]
  },
  {
   "cell_type": "code",
   "execution_count": 6,
   "id": "284e8905-a69b-4a64-98dc-84be8b06d505",
   "metadata": {},
   "outputs": [
    {
     "name": "stdout",
     "output_type": "stream",
     "text": [
      "i = 10\n",
      "i = 9\n",
      "i = 8\n",
      "i = 7\n",
      "i = 6\n",
      "i = 5\n",
      "i = 4\n",
      "i = 3\n",
      "i = 2\n",
      "i = 1\n",
      "End of the loop execution...\n"
     ]
    }
   ],
   "source": [
    "for i in range(10, 0, -1):\n",
    "    print (\"i =\", i)\n",
    "print (\"End of the loop execution...\")"
   ]
  },
  {
   "cell_type": "code",
   "execution_count": 12,
   "id": "6286701a-4722-4cb3-8126-8f7294c1ad48",
   "metadata": {},
   "outputs": [
    {
     "name": "stdout",
     "output_type": "stream",
     "text": [
      "i = -5\n",
      "i = -4\n",
      "i = -3\n",
      "i = -2\n",
      "i = -1\n",
      "i = 0\n",
      "i = 1\n",
      "i = 2\n",
      "i = 3\n",
      "i = 4\n",
      "ELSE block is executing...\n",
      "Had a smooth execution...\n",
      "So total number iterations = 10\n",
      "End of the loop execution...\n"
     ]
    }
   ],
   "source": [
    "count = 0\n",
    "for i in range(-5, +5, 1):\n",
    "    print (\"i =\", i)\n",
    "    # count = count + 1\n",
    "    count += 1\n",
    "else:\n",
    "    print (\"ELSE block is executing...\")\n",
    "    print (\"Had a smooth execution...\")\n",
    "print (\"So total number iterations =\", count)\n",
    "print (\"End of the loop execution...\")"
   ]
  },
  {
   "cell_type": "code",
   "execution_count": 23,
   "id": "256b82e7-338e-492d-8c12-c32b2f7f1561",
   "metadata": {},
   "outputs": [
    {
     "name": "stdout",
     "output_type": "stream",
     "text": [
      "i = 1\n",
      "i = 2\n",
      "i = 3\n",
      "i = 4\n",
      "i = 5\n",
      "i = 6\n",
      "i = 7\n",
      "i = 8\n",
      "ELSE block is executing...\n",
      "Had a smooth execution...\n",
      "So total number iterations = 8\n",
      "End of the loop execution...\n"
     ]
    }
   ],
   "source": [
    "count = 0\n",
    "for i in range(1, 9):\n",
    "    print (\"i =\", i)\n",
    "    count += 1\n",
    "else:\n",
    "    print (\"ELSE block is executing...\")\n",
    "    print (\"Had a smooth execution...\")\n",
    "print (\"So total number iterations =\", count)\n",
    "print (\"End of the loop execution...\")"
   ]
  },
  {
   "cell_type": "code",
   "execution_count": 16,
   "id": "ec9f30a6-cf3a-46d7-b86f-180bdd23a8cc",
   "metadata": {},
   "outputs": [
    {
     "name": "stdout",
     "output_type": "stream",
     "text": [
      "i = 1\n",
      "i = 2\n",
      "i = 3\n",
      "i = 4\n",
      "Executing the break statement and coming out from the loop instantly...\n",
      "So total number iterations = 3\n",
      "End of the loop execution...\n"
     ]
    }
   ],
   "source": [
    "count = 0\n",
    "for i in range(1, 9):\n",
    "    print (\"i =\", i)\n",
    "    if (i == 4): \n",
    "        print (\"Executing the break statement and coming out from the loop instantly...\")\n",
    "        break\n",
    "    count += 1\n",
    "else:\n",
    "    print (\"ELSE block is executing...\")\n",
    "    print (\"Had a smooth execution...\")\n",
    "print (\"So total number iterations =\", count)\n",
    "print (\"End of the loop execution...\")"
   ]
  },
  {
   "cell_type": "code",
   "execution_count": 18,
   "id": "2a86350c-e2f9-46f9-a36f-da288f84ee2e",
   "metadata": {},
   "outputs": [
    {
     "name": "stdin",
     "output_type": "stream",
     "text": [
      "Please enter one integer:  100\n"
     ]
    },
    {
     "name": "stdout",
     "output_type": "stream",
     "text": [
      "100 is Not a PRIME Number...\n",
      "End of the program...\n"
     ]
    }
   ],
   "source": [
    "# find whether the user given integer is a PRIME number or not\n",
    "num = int(input(\"Please enter one integer: \"))\n",
    "for factor in range(2, num):\n",
    "    if (num % factor == 0):\n",
    "        print (f\"{num} is Not a PRIME Number...\")\n",
    "        break\n",
    "else:\n",
    "    print (f\"{num} is a PRIME Number...\")\n",
    "print (\"End of the program...\")"
   ]
  },
  {
   "cell_type": "code",
   "execution_count": 24,
   "id": "4dc68581-5e9c-4f1d-b110-a28f79afd6ec",
   "metadata": {},
   "outputs": [
    {
     "name": "stdout",
     "output_type": "stream",
     "text": [
      "i = 1\n",
      "i = 2\n",
      "i = 3\n",
      "Going for the next iteration for i = 4\n",
      "i = 5\n",
      "Going for the next iteration for i = 6\n",
      "i = 7\n",
      "i = 8\n",
      "ELSE block is executing...\n",
      "Had a smooth execution...\n",
      "So total number iterations = 6\n",
      "End of the loop execution...\n"
     ]
    }
   ],
   "source": [
    "count = 0\n",
    "for i in range(1, 9):\n",
    "    if (i == 4 or i == 6):\n",
    "        print (f\"Going for the next iteration for i = {i}\")\n",
    "        continue\n",
    "    print (\"i =\", i)\n",
    "    count += 1\n",
    "else:\n",
    "    print (\"ELSE block is executing...\")\n",
    "    print (\"Had a smooth execution...\")\n",
    "print (\"So total number iterations =\", count)\n",
    "print (\"End of the loop execution...\")"
   ]
  },
  {
   "cell_type": "code",
   "execution_count": 26,
   "id": "28f447f0-b908-4b54-b77e-e9db4a0246d5",
   "metadata": {},
   "outputs": [
    {
     "name": "stdout",
     "output_type": "stream",
     "text": [
      "i = 1\n",
      "i = 2\n",
      "i = 3\n",
      "Going for the next iteration for i = 4\n",
      "i = 5\n",
      "Going for the next iteration for i = 6\n",
      "i = 7\n",
      "i = 8\n",
      "ELSE block is executing...\n",
      "Had a smooth execution...\n",
      "So total number iterations = 6\n",
      "End of the loop execution...\n"
     ]
    }
   ],
   "source": [
    "count = 0\n",
    "for i in range(1, 9):\n",
    "    if (i != 4 and i != 6):\n",
    "        pass   # pass is a statement place holder\n",
    "    else:\n",
    "        print (f\"Going for the next iteration for i = {i}\")\n",
    "        continue\n",
    "    print (\"i =\", i)\n",
    "    count += 1\n",
    "else:\n",
    "    print (\"ELSE block is executing...\")\n",
    "    print (\"Had a smooth execution...\")\n",
    "print (\"So total number iterations =\", count)\n",
    "print (\"End of the loop execution...\")"
   ]
  },
  {
   "cell_type": "code",
   "execution_count": 28,
   "id": "fd2515d0-7c31-40ee-bfec-e5dcb1a1c6a7",
   "metadata": {},
   "outputs": [
    {
     "name": "stdout",
     "output_type": "stream",
     "text": [
      "Executing for i = 1...\n",
      "Executing for i = 2...\n",
      "Executing for i = 3...\n",
      "Executing for i = 4...\n",
      "Executing for i = 5...\n",
      "Executing for i = 6...\n",
      "Executing for i = 7...\n",
      "Executing for i = 8...\n",
      "ELSE block is executing...\n",
      "Had a smooth execution...\n",
      "So total number iterations = 8...\n",
      "End of the loop execution...\n"
     ]
    }
   ],
   "source": [
    "i = 1\n",
    "count = 0\n",
    "while (i <= 8):\n",
    "    print (f\"Executing for i = {i}...\")\n",
    "    i = i + 1\n",
    "    count = count + 1\n",
    "else:\n",
    "    print (\"ELSE block is executing...\")\n",
    "    print (\"Had a smooth execution...\")\n",
    "print (f\"So total number iterations = {count}...\")\n",
    "print (\"End of the loop execution...\")"
   ]
  },
  {
   "cell_type": "code",
   "execution_count": 30,
   "id": "787b7227-4d7e-4b60-b53f-545213404bc7",
   "metadata": {},
   "outputs": [
    {
     "name": "stdout",
     "output_type": "stream",
     "text": [
      "Visit DOCTOR...\n",
      "Good Morning...\n",
      "Day number = 1 and medicine number = 1...\n",
      "Day number = 1 and medicine number = 2...\n",
      "Day number = 1 and medicine number = 3...\n",
      "Good Night...\n",
      "-----------------------------------------------------------\n",
      "Good Morning...\n",
      "Day number = 2 and medicine number = 1...\n",
      "Day number = 2 and medicine number = 2...\n",
      "Day number = 2 and medicine number = 3...\n",
      "Good Night...\n",
      "-----------------------------------------------------------\n",
      "Good Morning...\n",
      "Day number = 3 and medicine number = 1...\n",
      "Day number = 3 and medicine number = 2...\n",
      "Day number = 3 and medicine number = 3...\n",
      "Good Night...\n",
      "-----------------------------------------------------------\n",
      "Good Morning...\n",
      "Day number = 4 and medicine number = 1...\n",
      "Day number = 4 and medicine number = 2...\n",
      "Day number = 4 and medicine number = 3...\n",
      "Good Night...\n",
      "-----------------------------------------------------------\n",
      "Good Morning...\n",
      "Day number = 5 and medicine number = 1...\n",
      "Day number = 5 and medicine number = 2...\n",
      "Day number = 5 and medicine number = 3...\n",
      "Good Night...\n",
      "-----------------------------------------------------------\n",
      "Thanks to DOCTOR...\n",
      "So total number of medicines consumed is 15...\n"
     ]
    }
   ],
   "source": [
    "# example on nested loops\n",
    "print (\"Visit DOCTOR...\")    # 1 time\n",
    "medicount = 0\n",
    "for day in range(1, 6):\n",
    "    print (\"Good Morning...\")    # 5 times\n",
    "    for medi in range(1, 4):\n",
    "        print (f\"Day number = {day} and medicine number = {medi}...\")    # 15 times\n",
    "        medicount += 1\n",
    "    print (\"Good Night...\")    # 5 times\n",
    "    print (\"-----------------------------------------------------------\")    # 5 times\n",
    "print (\"Thanks to DOCTOR...\")    # 1 time\n",
    "print (f\"So total number of medicines consumed is {medicount}...\")"
   ]
  },
  {
   "cell_type": "code",
   "execution_count": 31,
   "id": "72e45b72-1ae6-4435-90cb-56a2408d361b",
   "metadata": {},
   "outputs": [
    {
     "name": "stdout",
     "output_type": "stream",
     "text": [
      "Visit DOCTOR...\n",
      "Good Morning...\n",
      "Day number = 1 and medicine number = 1...\n",
      "Day number = 1 and medicine number = 2...\n",
      "Day number = 1 and medicine number = 3...\n",
      "Good Night...\n",
      "-----------------------------------------------------------\n",
      "Good Morning...\n",
      "Day number = 2 and medicine number = 1...\n",
      "Day number = 2 and medicine number = 2...\n",
      "Day number = 2 and medicine number = 3...\n",
      "Good Night...\n",
      "-----------------------------------------------------------\n",
      "Good Morning...\n",
      "Day number = 3 and medicine number = 1...\n",
      "Day number = 3 and medicine number = 2...\n",
      "Day number = 3 and medicine number = 3...\n",
      "Good Night...\n",
      "-----------------------------------------------------------\n",
      "Good Morning...\n",
      "Day number = 4 and medicine number = 1...\n",
      "Day number = 4 and medicine number = 2...\n",
      "Day number = 4 and medicine number = 3...\n",
      "Good Night...\n",
      "-----------------------------------------------------------\n",
      "Good Morning...\n",
      "Day number = 5 and medicine number = 1...\n",
      "Day number = 5 and medicine number = 2...\n",
      "Day number = 5 and medicine number = 3...\n",
      "Good Night...\n",
      "-----------------------------------------------------------\n",
      "Thanks to DOCTOR...\n",
      "So total number of medicines consumed is 15...\n"
     ]
    }
   ],
   "source": [
    "# example on nested loops\n",
    "print (\"Visit DOCTOR...\")    # 1 time\n",
    "medicount = 0\n",
    "day = 1\n",
    "while (day <= 5):\n",
    "    print (\"Good Morning...\")    # 5 times\n",
    "    medi = 1\n",
    "    while (medi <= 3):\n",
    "        print (f\"Day number = {day} and medicine number = {medi}...\")    # 15 times\n",
    "        medicount += 1\n",
    "        medi += 1\n",
    "    print (\"Good Night...\")    # 5 times\n",
    "    print (\"-----------------------------------------------------------\")    # 5 times\n",
    "    day += 1\n",
    "print (\"Thanks to DOCTOR...\")    # 1 time\n",
    "print (f\"So total number of medicines consumed is {medicount}...\")"
   ]
  },
  {
   "cell_type": "code",
   "execution_count": 34,
   "id": "46d78995-1a37-443a-8f06-73464943e5d9",
   "metadata": {},
   "outputs": [
    {
     "name": "stdout",
     "output_type": "stream",
     "text": [
      "Hello Hello Hello Hello Hello \n",
      "Hi Hi Hi Hi Hi Hi Hi Hi \n"
     ]
    }
   ],
   "source": [
    "print (\"Hello \" * 5)\n",
    "print (\"Hi \" * 8)"
   ]
  },
  {
   "cell_type": "code",
   "execution_count": null,
   "id": "f9b45496-82d8-4c54-a80f-367df7139e81",
   "metadata": {},
   "outputs": [],
   "source": [
    "Pattern - 1\n",
    "-----------\n",
    "n = 6 (User input)    i   .   *\n",
    "                   ---------------\n",
    ".....*                1   5   1        (i, n)\n",
    "....***               2   4   3   . => (n - i)\n",
    "...*****              3   3   5\n",
    "..*******             4   2   7   * => (2 * i - 1)\n",
    ".*********            5   1   9\n",
    "***********           6   0  11\n",
    "                   ---------------\n",
    "                    Tracing Table"
   ]
  },
  {
   "cell_type": "code",
   "execution_count": 39,
   "id": "a61126c1-752f-49bf-af71-a3ef1a7f9c81",
   "metadata": {},
   "outputs": [
    {
     "name": "stdin",
     "output_type": "stream",
     "text": [
      "Please enter the number of layers in the pattern:  11\n"
     ]
    },
    {
     "name": "stdout",
     "output_type": "stream",
     "text": [
      "..........*\n",
      ".........***\n",
      "........*****\n",
      ".......*******\n",
      "......*********\n",
      ".....***********\n",
      "....*************\n",
      "...***************\n",
      "..*****************\n",
      ".*******************\n",
      "*********************\n",
      "End of the program...\n"
     ]
    }
   ],
   "source": [
    "n = int(input(\"Please enter the number of layers in the pattern: \"))\n",
    "for i in range(1, (n + 1)):\n",
    "    print (\".\" * (n - i) + \"*\" * (2 * i - 1))\n",
    "print (\"End of the program...\")"
   ]
  },
  {
   "cell_type": "code",
   "execution_count": null,
   "id": "4deac4c2-979c-436b-b0c6-0401aeaaaf91",
   "metadata": {},
   "outputs": [],
   "source": [
    "Pattern - 2\n",
    "-----------\n",
    "n = 6 (User input)    i   .   *\n",
    "                   ---------------\n",
    "***********           1   0  11        (i, n)\n",
    ".*********            2   1   9   . => (i - 1)\n",
    "..*******             3   2   7\n",
    "...*****              4   3   5   * => (2 * (n - i) + 1)\n",
    "....***               5   4   3\n",
    ".....*                6   5   1\n",
    "                   ---------------\n",
    "                    Tracing Table"
   ]
  },
  {
   "cell_type": "code",
   "execution_count": 42,
   "id": "2df80eb9-90b2-4d2a-9e78-529d56186590",
   "metadata": {},
   "outputs": [
    {
     "name": "stdin",
     "output_type": "stream",
     "text": [
      "Please enter the number of layers in the pattern:  6\n"
     ]
    },
    {
     "name": "stdout",
     "output_type": "stream",
     "text": [
      "***********\n",
      ".*********\n",
      "..*******\n",
      "...*****\n",
      "....***\n",
      ".....*\n",
      "End of the program...\n"
     ]
    }
   ],
   "source": [
    "n = int(input(\"Please enter the number of layers in the pattern: \"))\n",
    "for i in range(1, (n + 1)):\n",
    "    print (\".\" * (i - 1) + \"*\" * (2 * (n - i) + 1))\n",
    "print (\"End of the program...\")"
   ]
  },
  {
   "cell_type": "code",
   "execution_count": 43,
   "id": "d60320b6-4ace-420b-a37a-433d823b6ec1",
   "metadata": {},
   "outputs": [
    {
     "name": "stdin",
     "output_type": "stream",
     "text": [
      "Please enter the number of terms of the series:  12\n"
     ]
    },
    {
     "name": "stdout",
     "output_type": "stream",
     "text": [
      "Adding ordinary term = 1...\n",
      "Adding ordinary term = 2...\n",
      "Adding ordinary term = 3...\n",
      "Adding ordinary term = 4...\n",
      "Adding tsum = 10...\n",
      "Adding ordinary term = 5...\n",
      "Adding ordinary term = 6...\n",
      "Adding ordinary term = 7...\n",
      "Adding ordinary term = 8...\n",
      "Adding tsum = 26...\n",
      "Adding ordinary term = 9...\n",
      "Adding ordinary term = 10...\n",
      "So the final sum is 91...\n",
      "End of the program...\n"
     ]
    }
   ],
   "source": [
    "# Series problem\n",
    "# total = 1 + 2 + 3 + 4 + 10 + 5 + 6 + 7 + 8 + 26 + 9 + 10 + 11 + ... n terms\n",
    "# find the sum of the series for first n terms where n will be given by the user.\n",
    "n = int(input(\"Please enter the number of terms of the series: \"))\n",
    "term = 1\n",
    "fsum = tsum = 0\n",
    "for i in range(1, (n + 1)):\n",
    "    if (i % 5 == 0):\n",
    "        fsum += tsum\n",
    "        print (f\"Adding tsum = {tsum}...\")\n",
    "        tsum = 0\n",
    "    else:\n",
    "        fsum += term\n",
    "        tsum += term\n",
    "        print (f\"Adding ordinary term = {term}...\")\n",
    "        term += 1\n",
    "print (f\"So the final sum is {fsum}...\")\n",
    "print (\"End of the program...\")"
   ]
  },
  {
   "cell_type": "markdown",
   "id": "ffee2327-58f2-4252-90e9-356cd69e141a",
   "metadata": {},
   "source": [
    "# **Day-3**"
   ]
  },
  {
   "cell_type": "code",
   "execution_count": null,
   "id": "f0687a6e-5b41-440d-a9a3-ad6846392d52",
   "metadata": {},
   "outputs": [],
   "source": []
  },
  {
   "cell_type": "code",
   "execution_count": null,
   "id": "19d20746-7181-4130-8049-259c1f3d08f1",
   "metadata": {},
   "outputs": [],
   "source": []
  },
  {
   "cell_type": "code",
   "execution_count": null,
   "id": "5b54a030-ebe6-493d-ab3c-ebf0113ef71c",
   "metadata": {},
   "outputs": [],
   "source": []
  },
  {
   "cell_type": "code",
   "execution_count": null,
   "id": "fee6a3ec-bfe7-41f2-b7d5-9cc4bd5407c6",
   "metadata": {},
   "outputs": [],
   "source": []
  },
  {
   "cell_type": "code",
   "execution_count": null,
   "id": "c91b52ff-bf63-4bbb-a2b8-2f4e77677937",
   "metadata": {},
   "outputs": [],
   "source": []
  },
  {
   "cell_type": "code",
   "execution_count": null,
   "id": "261f4bbf-b6ed-4976-8b84-e3f64088626a",
   "metadata": {},
   "outputs": [],
   "source": []
  },
  {
   "cell_type": "code",
   "execution_count": null,
   "id": "d269bc6a-03c3-471e-aeb4-628e48efa98d",
   "metadata": {},
   "outputs": [],
   "source": []
  },
  {
   "cell_type": "code",
   "execution_count": null,
   "id": "61ac15e1-e225-451f-8015-2bf7df430f3c",
   "metadata": {},
   "outputs": [],
   "source": []
  },
  {
   "cell_type": "code",
   "execution_count": null,
   "id": "e6fa2a6e-6656-4ba0-96eb-8ac50718401a",
   "metadata": {},
   "outputs": [],
   "source": []
  },
  {
   "cell_type": "code",
   "execution_count": null,
   "id": "ccf5efd7-506f-410b-91fa-b658bd34a578",
   "metadata": {},
   "outputs": [],
   "source": []
  },
  {
   "cell_type": "code",
   "execution_count": null,
   "id": "99c26be7-59ee-4448-a46d-5ff9f2c6c997",
   "metadata": {},
   "outputs": [],
   "source": []
  },
  {
   "cell_type": "code",
   "execution_count": null,
   "id": "7471097d-5358-4d4e-8249-cfd842c53b48",
   "metadata": {},
   "outputs": [],
   "source": []
  },
  {
   "cell_type": "markdown",
   "id": "664e0df6-fdcb-402c-a861-06492eef2b2b",
   "metadata": {},
   "source": [
    "# **Day-4**"
   ]
  },
  {
   "cell_type": "code",
   "execution_count": null,
   "id": "0d2ecd44-2971-4709-ac48-a2aa81dfc392",
   "metadata": {},
   "outputs": [],
   "source": []
  },
  {
   "cell_type": "code",
   "execution_count": null,
   "id": "1589f0dc-4a18-4a81-b790-3324dfc84950",
   "metadata": {},
   "outputs": [],
   "source": []
  },
  {
   "cell_type": "code",
   "execution_count": null,
   "id": "cc93dc10-a119-444a-8f46-d7d1ada71475",
   "metadata": {},
   "outputs": [],
   "source": []
  },
  {
   "cell_type": "code",
   "execution_count": null,
   "id": "904384cb-189f-45cd-9b81-85d91e2f4b23",
   "metadata": {},
   "outputs": [],
   "source": []
  },
  {
   "cell_type": "code",
   "execution_count": null,
   "id": "fc42b613-ca0f-4c76-8223-152cca4e26a7",
   "metadata": {},
   "outputs": [],
   "source": []
  },
  {
   "cell_type": "code",
   "execution_count": null,
   "id": "0469181d-c977-445d-9478-d754c1351946",
   "metadata": {},
   "outputs": [],
   "source": []
  },
  {
   "cell_type": "code",
   "execution_count": null,
   "id": "85e44227-89e1-49ef-98ec-946cf90a129f",
   "metadata": {},
   "outputs": [],
   "source": []
  },
  {
   "cell_type": "code",
   "execution_count": null,
   "id": "60627da1-99e1-45b8-9b63-8492997be76a",
   "metadata": {},
   "outputs": [],
   "source": []
  },
  {
   "cell_type": "code",
   "execution_count": null,
   "id": "1665bbd5-cdf8-4454-a933-4f48e27b5573",
   "metadata": {},
   "outputs": [],
   "source": []
  },
  {
   "cell_type": "code",
   "execution_count": null,
   "id": "0b13d8bc-2735-4c0a-8614-02f13fe7be76",
   "metadata": {},
   "outputs": [],
   "source": []
  },
  {
   "cell_type": "markdown",
   "id": "33d1f484-c39d-4151-8f0b-41ca90746c83",
   "metadata": {},
   "source": [
    "# **Day-5**"
   ]
  },
  {
   "cell_type": "code",
   "execution_count": null,
   "id": "f2f66ee9-3aed-4cd2-acb8-c27cbed8c217",
   "metadata": {},
   "outputs": [],
   "source": []
  }
 ],
 "metadata": {
  "kernelspec": {
   "display_name": "Python 3 (ipykernel)",
   "language": "python",
   "name": "python3"
  },
  "language_info": {
   "codemirror_mode": {
    "name": "ipython",
    "version": 3
   },
   "file_extension": ".py",
   "mimetype": "text/x-python",
   "name": "python",
   "nbconvert_exporter": "python",
   "pygments_lexer": "ipython3",
   "version": "3.10.9"
  }
 },
 "nbformat": 4,
 "nbformat_minor": 5
}
