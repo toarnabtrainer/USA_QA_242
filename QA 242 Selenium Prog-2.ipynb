{
 "cells": [
  {
   "cell_type": "markdown",
   "id": "91cbccd5-d361-4176-ae32-c603202bfb78",
   "metadata": {},
   "source": [
    "# **Selenium Code Example - 2**"
   ]
  },
  {
   "cell_type": "markdown",
   "id": "c28f769f-cd41-4080-9c86-6907a1b1ccec",
   "metadata": {},
   "source": [
    "## **Selenium control options to write text, button press, select menu and others**"
   ]
  },
  {
   "cell_type": "code",
   "execution_count": 1,
   "id": "8e5aab41-3c49-4fb0-86e3-f561cb353021",
   "metadata": {},
   "outputs": [],
   "source": [
    "# importing all required modules\n",
    "from selenium import webdriver\n",
    "from selenium.webdriver.chrome.service import Service"
   ]
  },
  {
   "cell_type": "code",
   "execution_count": 2,
   "id": "1d30362a-cc39-497b-a2fe-2594c3f4e6e8",
   "metadata": {},
   "outputs": [
    {
     "name": "stdout",
     "output_type": "stream",
     "text": [
      "4.10.0\n"
     ]
    }
   ],
   "source": [
    "# now check the current version of the Selenium\n",
    "print (webdriver.__version__)"
   ]
  },
  {
   "cell_type": "code",
   "execution_count": 3,
   "id": "8b41e7c5-39f5-4cf6-ae5c-6f527d6472ca",
   "metadata": {},
   "outputs": [],
   "source": [
    "# now checking whether the chrome driver is present in the current folder,\n",
    "# as it is present so to access it, we don't require any separate path to access it\n",
    "service = Service(executable_path=\"./chromedriver.exe\")\n",
    "options = webdriver.ChromeOptions()\n",
    "driver = webdriver.Chrome(service=service, options=options)"
   ]
  },
  {
   "cell_type": "code",
   "execution_count": 4,
   "id": "0e56d3e7-75ac-4664-9117-8a777ac51fb9",
   "metadata": {},
   "outputs": [],
   "source": [
    "URL = \"https://www.calculatorsoup.com/calculators/discretemathematics/combinations.php\"\n",
    "driver.get(URL)"
   ]
  },
  {
   "cell_type": "code",
   "execution_count": 5,
   "id": "447f459c-35c3-4c9e-97c5-643131b5d4c6",
   "metadata": {},
   "outputs": [],
   "source": [
    "n_input = driver.find_element(\"id\", \"n\")\n",
    "n_input.clear()\n",
    "n_input.send_keys(\"10\")"
   ]
  },
  {
   "cell_type": "code",
   "execution_count": 6,
   "id": "53e931a3-3409-4df6-a5d4-e29d2ca4305e",
   "metadata": {},
   "outputs": [],
   "source": [
    "# r_input = driver.find_element(\"id\", \"r\")\n",
    "# r_input.clear()\n",
    "# r_input.send_keys(\"8\")"
   ]
  },
  {
   "cell_type": "code",
   "execution_count": 7,
   "id": "42dafce8-4758-4d93-9858-24890b1ddba0",
   "metadata": {},
   "outputs": [],
   "source": [
    "# to press keys, we can use the following library\n",
    "from selenium.webdriver.common.keys import Keys\n",
    "\n",
    "# now press TAB to go to the next input area\n",
    "n_input.send_keys(Keys.TAB)\n",
    "\n",
    "# select currently selected input area\n",
    "r_input = driver.switch_to.active_element\n",
    "\n",
    "# put the r value inside the text box after clearing it\n",
    "r_input.clear()\n",
    "r_input.send_keys(\"5\")"
   ]
  },
  {
   "cell_type": "code",
   "execution_count": 8,
   "id": "87fb424f-15d8-4a41-bf4c-39710ba61966",
   "metadata": {},
   "outputs": [],
   "source": [
    "# now go to the calculate button and click it\n",
    "calculate_button = driver.find_element(\"id\", \"calculateButton\")\n",
    "calculate_button.click()"
   ]
  },
  {
   "cell_type": "code",
   "execution_count": 9,
   "id": "3f554b42-84cf-4dfa-923d-d37ed5a202c5",
   "metadata": {},
   "outputs": [
    {
     "name": "stdout",
     "output_type": "stream",
     "text": [
      "= 252\n",
      "Solution:\n",
      "C(n,r)=?\n",
      "C\n",
      "(\n",
      ")\n",
      "?\n",
      "C(n,r)=C(10,5)\n",
      "C\n",
      "(\n",
      ")\n",
      "C\n",
      "(\n",
      "10\n",
      "5\n",
      ")\n",
      "=\n",
      "10!\n",
      "(5!(10−5)!)\n",
      "10\n",
      "!\n",
      "=\n",
      "10!\n",
      "5!×5!\n",
      "10\n",
      "!\n",
      "= 252\n"
     ]
    }
   ],
   "source": [
    "# read the answer from the result area\n",
    "result_area = driver.find_element(\"id\", \"answer\")\n",
    "result = result_area.text\n",
    "print (result)"
   ]
  },
  {
   "cell_type": "code",
   "execution_count": 10,
   "id": "2fa8e4cf-9dad-43bb-ab6b-45a8493c8727",
   "metadata": {},
   "outputs": [
    {
     "name": "stdout",
     "output_type": "stream",
     "text": [
      "252\n"
     ]
    }
   ],
   "source": [
    "final_result = int(result.split(\"\\n\")[0].split(\" \")[1])\n",
    "print (final_result)"
   ]
  },
  {
   "cell_type": "code",
   "execution_count": 11,
   "id": "fa167ce8-5abd-4229-af58-41ff86d14750",
   "metadata": {},
   "outputs": [
    {
     "name": "stdout",
     "output_type": "stream",
     "text": [
      "Test Case PASSED...\n"
     ]
    }
   ],
   "source": [
    "import math\n",
    "my_result = math.comb(10, 5)\n",
    "if (my_result == final_result):\n",
    "    print (\"Test Case PASSED...\")\n",
    "else:\n",
    "    print (\"Test Case FAILED...\")"
   ]
  },
  {
   "cell_type": "code",
   "execution_count": 12,
   "id": "903e5a3b-bc26-46c7-8657-0013c791954c",
   "metadata": {},
   "outputs": [],
   "source": [
    "# close all the windows which were opened by the driver\n",
    "driver.quit()"
   ]
  },
  {
   "cell_type": "code",
   "execution_count": null,
   "id": "58410054-3df0-49c0-930a-bf5fe2bdfe56",
   "metadata": {},
   "outputs": [],
   "source": []
  }
 ],
 "metadata": {
  "kernelspec": {
   "display_name": "Python 3 (ipykernel)",
   "language": "python",
   "name": "python3"
  },
  "language_info": {
   "codemirror_mode": {
    "name": "ipython",
    "version": 3
   },
   "file_extension": ".py",
   "mimetype": "text/x-python",
   "name": "python",
   "nbconvert_exporter": "python",
   "pygments_lexer": "ipython3",
   "version": "3.10.9"
  }
 },
 "nbformat": 4,
 "nbformat_minor": 5
}
